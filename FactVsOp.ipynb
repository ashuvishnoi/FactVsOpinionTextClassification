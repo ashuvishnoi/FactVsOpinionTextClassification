{
  "nbformat": 4,
  "nbformat_minor": 0,
  "metadata": {
    "colab": {
      "name": "FactVsOp_Optimization.ipynb",
      "provenance": [],
      "machine_shape": "hm"
    },
    "kernelspec": {
      "name": "python3",
      "display_name": "Python 3"
    }
  },
  "cells": [
    {
      "cell_type": "code",
      "metadata": {
        "id": "Q83a1xdDAmCA",
        "colab_type": "code",
        "outputId": "7fcb5f46-fecc-4a75-f476-d0078705d0bb",
        "colab": {
          "base_uri": "https://localhost:8080/",
          "height": 122
        }
      },
      "source": [
        "from google.colab import drive\n",
        "drive.mount('/content/drive')"
      ],
      "execution_count": 0,
      "outputs": [
        {
          "output_type": "stream",
          "text": [
            "Go to this URL in a browser: https://accounts.google.com/o/oauth2/auth?client_id=947318989803-6bn6qk8qdgf4n4g3pfee6491hc0brc4i.apps.googleusercontent.com&redirect_uri=urn%3Aietf%3Awg%3Aoauth%3A2.0%3Aoob&scope=email%20https%3A%2F%2Fwww.googleapis.com%2Fauth%2Fdocs.test%20https%3A%2F%2Fwww.googleapis.com%2Fauth%2Fdrive%20https%3A%2F%2Fwww.googleapis.com%2Fauth%2Fdrive.photos.readonly%20https%3A%2F%2Fwww.googleapis.com%2Fauth%2Fpeopleapi.readonly&response_type=code\n",
            "\n",
            "Enter your authorization code:\n",
            "··········\n",
            "Mounted at /content/drive\n"
          ],
          "name": "stdout"
        }
      ]
    },
    {
      "cell_type": "code",
      "metadata": {
        "id": "-iBqDwTeAu3Y",
        "colab_type": "code",
        "outputId": "1f8c3140-fe11-4bd6-f026-ce5e8777e551",
        "colab": {
          "base_uri": "https://localhost:8080/",
          "height": 51
        }
      },
      "source": [
        "import pandas as pd\n",
        "import nltk\n",
        "nltk.download('stopwords')\n",
        "from nltk.corpus import stopwords\n",
        "stop_words = set(stopwords.words('english')) \n",
        "from nltk.tokenize import word_tokenize \n",
        "from nltk.tokenize import sent_tokenize\n",
        "import re\n",
        "from gensim.models import doc2vec\n",
        "from gensim.models.doc2vec import Doc2Vec, TaggedDocument\n",
        "from gensim.models import Word2Vec\n",
        "import numpy as np"
      ],
      "execution_count": 0,
      "outputs": [
        {
          "output_type": "stream",
          "text": [
            "[nltk_data] Downloading package stopwords to /root/nltk_data...\n",
            "[nltk_data]   Unzipping corpora/stopwords.zip.\n"
          ],
          "name": "stdout"
        }
      ]
    },
    {
      "cell_type": "code",
      "metadata": {
        "id": "IymuTI3eA9mr",
        "colab_type": "code",
        "colab": {}
      },
      "source": [
        "import keras\n",
        "from keras.models import Model\n",
        "from keras.layers import LSTM, Activation, Dense, Dropout, Input, Embedding\n",
        "from keras.optimizers import RMSprop\n",
        "from keras.preprocessing.text import Tokenizer\n",
        "from keras.preprocessing import sequence\n",
        "from keras.utils import to_categorical\n",
        "from keras.callbacks import EarlyStopping\n",
        "from keras.layers import LSTM, Dense, Bidirectional, Input, Dropout, Flatten, Embedding, BatchNormalization"
      ],
      "execution_count": 0,
      "outputs": []
    },
    {
      "cell_type": "code",
      "metadata": {
        "id": "mYqnFpw9BFXD",
        "colab_type": "code",
        "colab": {}
      },
      "source": [
        "df = pd.read_csv('/content/drive/My Drive/Data/fact vs opinion/50k_fo_dataset.csv')"
      ],
      "execution_count": 0,
      "outputs": []
    },
    {
      "cell_type": "code",
      "metadata": {
        "id": "PG69-aR2BHnh",
        "colab_type": "code",
        "outputId": "55c4f19d-30b1-4749-b9d5-7a25f0e2c66e",
        "colab": {
          "base_uri": "https://localhost:8080/",
          "height": 479
        }
      },
      "source": [
        "df.head()"
      ],
      "execution_count": 0,
      "outputs": [
        {
          "output_type": "execute_result",
          "data": {
            "text/html": [
              "<div>\n",
              "<style scoped>\n",
              "    .dataframe tbody tr th:only-of-type {\n",
              "        vertical-align: middle;\n",
              "    }\n",
              "\n",
              "    .dataframe tbody tr th {\n",
              "        vertical-align: top;\n",
              "    }\n",
              "\n",
              "    .dataframe thead th {\n",
              "        text-align: right;\n",
              "    }\n",
              "</style>\n",
              "<table border=\"1\" class=\"dataframe\">\n",
              "  <thead>\n",
              "    <tr style=\"text-align: right;\">\n",
              "      <th></th>\n",
              "      <th>Unnamed: 0</th>\n",
              "      <th>0</th>\n",
              "      <th>1</th>\n",
              "      <th>2</th>\n",
              "      <th>cleaned_corpus</th>\n",
              "      <th>cleaned_corpus_withstops</th>\n",
              "      <th>cleaned_corpus_withstops_withquotes</th>\n",
              "      <th>special_corpus</th>\n",
              "      <th>special_cleaned_corpus2</th>\n",
              "      <th>special_cleaned_corpus5</th>\n",
              "    </tr>\n",
              "  </thead>\n",
              "  <tbody>\n",
              "    <tr>\n",
              "      <th>0</th>\n",
              "      <td>0</td>\n",
              "      <td>In light of some much pain and sorrow from the...</td>\n",
              "      <td>Opinion</td>\n",
              "      <td>Suspecto</td>\n",
              "      <td>In light much pain sorrow country dear communi...</td>\n",
              "      <td>In light of some much pain and sorrow from the...</td>\n",
              "      <td>In light of some much pain and sorrow from the...</td>\n",
              "      <td>In light of some much pain and sorrow from the...</td>\n",
              "      <td>In light of some much pain and sorrow from the...</td>\n",
              "      <td>In light of some much pain and sorrow from the...</td>\n",
              "    </tr>\n",
              "    <tr>\n",
              "      <th>1</th>\n",
              "      <td>1</td>\n",
              "      <td>From Conservapedia\\n\\nSalzburg is the capital ...</td>\n",
              "      <td>Opinion</td>\n",
              "      <td>Suspecto</td>\n",
              "      <td>From Conservapedia Salzburg capital biggest ci...</td>\n",
              "      <td>From Conservapedia\\n\\nSalzburg is the capital ...</td>\n",
              "      <td>From Conservapedia\\n\\nSalzburg is the capital ...</td>\n",
              "      <td>From Conservapedia\\n\\nSalzburg is the capital ...</td>\n",
              "      <td>From Conservapedia\\n\\nSalzburg is the capital ...</td>\n",
              "      <td>From Conservapedia\\n\\nSalzburg is the capital ...</td>\n",
              "    </tr>\n",
              "    <tr>\n",
              "      <th>2</th>\n",
              "      <td>2</td>\n",
              "      <td>Residents thronged the wide boulevards of Nort...</td>\n",
              "      <td>Factual</td>\n",
              "      <td>newsen</td>\n",
              "      <td>Residents thronged wide boulevards North Korea...</td>\n",
              "      <td>Residents thronged the wide boulevards of Nort...</td>\n",
              "      <td>Residents thronged the wide boulevards of Nort...</td>\n",
              "      <td>Residents thronged the wide boulevards of Nort...</td>\n",
              "      <td>0 0 0 0 0 However journalists’ movements are c...</td>\n",
              "      <td>0 0 0 0 0 However journalists’ movements are c...</td>\n",
              "    </tr>\n",
              "    <tr>\n",
              "      <th>3</th>\n",
              "      <td>3</td>\n",
              "      <td>Spain’s industry minister, Jose Manuel Soria, ...</td>\n",
              "      <td>Factual</td>\n",
              "      <td>newsen</td>\n",
              "      <td>Spains industry minister Jose Manuel Soria Mon...</td>\n",
              "      <td>Spains industry minister Jose Manuel Soria on ...</td>\n",
              "      <td>Spain’s industry minister Jose Manuel Soria on...</td>\n",
              "      <td>Spain’s industry minister Jose Manuel Soria on...</td>\n",
              "      <td>0 0 0 0 0 0 0 0 They have all denied wrongdoing</td>\n",
              "      <td>0 0 0 0 0 0 0 0 They have all denied wrongdoing</td>\n",
              "    </tr>\n",
              "    <tr>\n",
              "      <th>4</th>\n",
              "      <td>4</td>\n",
              "      <td>Embattled Daily Show successor Trevor Noah‘s s...</td>\n",
              "      <td>Opinion</td>\n",
              "      <td>Suspecto</td>\n",
              "      <td>Embattled Daily Show successor Trevor Noah ‘ s...</td>\n",
              "      <td>Embattled Daily Show successor Trevor Noah‘s s...</td>\n",
              "      <td>Embattled Daily Show successor Trevor Noah‘s s...</td>\n",
              "      <td>Embattled Daily Show successor Trevor Noah‘s s...</td>\n",
              "      <td>Embattled Daily Show successor Trevor Noah‘s s...</td>\n",
              "      <td>Embattled Daily Show successor Trevor Noah‘s s...</td>\n",
              "    </tr>\n",
              "  </tbody>\n",
              "</table>\n",
              "</div>"
            ],
            "text/plain": [
              "   Unnamed: 0  ...                            special_cleaned_corpus5\n",
              "0           0  ...  In light of some much pain and sorrow from the...\n",
              "1           1  ...  From Conservapedia\\n\\nSalzburg is the capital ...\n",
              "2           2  ...  0 0 0 0 0 However journalists’ movements are c...\n",
              "3           3  ...    0 0 0 0 0 0 0 0 They have all denied wrongdoing\n",
              "4           4  ...  Embattled Daily Show successor Trevor Noah‘s s...\n",
              "\n",
              "[5 rows x 10 columns]"
            ]
          },
          "metadata": {
            "tags": []
          },
          "execution_count": 5
        }
      ]
    },
    {
      "cell_type": "code",
      "metadata": {
        "id": "9KpIFTBhDfYj",
        "colab_type": "code",
        "colab": {}
      },
      "source": [
        "def clean_text_adv(text):\n",
        "    text = re.sub('\\d+\\d+', 'NUM', text)\n",
        "    words = word_tokenize(text)\n",
        "    clean_words = [re.sub(r'[^A-Za-z]', '', word) for word in words]\n",
        "    cleaned = ' '.join(clean_words)\n",
        "    text = cleaned.lower()\n",
        "    return text\n",
        "\n",
        "def clean(text, idx):\n",
        "    try:\n",
        "        sents = sent_tokenize(text)\n",
        "        sents1 = [clean_text_adv(i) for i in sents]\n",
        "        joined = ' '.join(sents1)\n",
        "        \n",
        "        print(idx)\n",
        "    \n",
        "        return joined\n",
        "    except:\n",
        "        sents = text\n",
        "        print('Ohh exception here')\n",
        "        sents = clean_text_adv(text)\n",
        "        b = ' '\n",
        "        #joined = b.join(sents)\n",
        "        print(text)\n",
        "        return sents"
      ],
      "execution_count": 0,
      "outputs": []
    },
    {
      "cell_type": "code",
      "metadata": {
        "id": "kXlBnYgjEXS4",
        "colab_type": "code",
        "outputId": "e384e08a-98d4-4be4-c6bb-6f3cdcc6c235",
        "colab": {
          "base_uri": "https://localhost:8080/",
          "height": 72
        }
      },
      "source": [
        "nltk.download('punkt')"
      ],
      "execution_count": 0,
      "outputs": [
        {
          "output_type": "stream",
          "text": [
            "[nltk_data] Downloading package punkt to /root/nltk_data...\n",
            "[nltk_data]   Unzipping tokenizers/punkt.zip.\n"
          ],
          "name": "stdout"
        },
        {
          "output_type": "execute_result",
          "data": {
            "text/plain": [
              "True"
            ]
          },
          "metadata": {
            "tags": []
          },
          "execution_count": 21
        }
      ]
    },
    {
      "cell_type": "code",
      "metadata": {
        "id": "dQvxZJCxDsFJ",
        "colab_type": "code",
        "colab": {}
      },
      "source": [
        "corpus = list(df['0'].fillna('0'))\n",
        "y = [1 if i=='Factual' else 0 for i in list(df['1'])]"
      ],
      "execution_count": 0,
      "outputs": []
    },
    {
      "cell_type": "code",
      "metadata": {
        "id": "PQ-IIOcpEbY9",
        "colab_type": "code",
        "colab": {}
      },
      "source": [
        "corpus[:100]"
      ],
      "execution_count": 0,
      "outputs": []
    },
    {
      "cell_type": "code",
      "metadata": {
        "id": "dAtX5DSWIQgq",
        "colab_type": "code",
        "outputId": "6e9875e9-2637-4911-a3e5-221497610210",
        "colab": {
          "base_uri": "https://localhost:8080/",
          "height": 74
        }
      },
      "source": [
        "sample2 = [(a, b) for a,b in zip(corpus, y)]\n",
        "sample2[0]"
      ],
      "execution_count": 0,
      "outputs": [
        {
          "output_type": "execute_result",
          "data": {
            "text/plain": [
              "('In light of some much pain and sorrow from the country to our dear community. I decided to create this open thread dedicated to gchaucer2 because she was one of my biggest fans and I hers. We connected through this primary and I know we will be celebrating and goofing around in Novemebr.\\n\\nBuy her book here\\n\\nAs a gay man , I also will not give in to terror and continue fighting for what I find is the correct path and the right choices to be made in the political arena and beyond.\\n\\nPolls close in DC at 830EST\\n\\nFor Orlando\\n\\nx YouTube Video\\n\\nFor GC\\n\\nx YouTube Video\\n\\nx This is one nation under God, indivisible, with liberty and justice for all. Not just for those who look or love or worship one wayÃ¢Â\\x80Â\\x94for all. Ã¢Â\\x80Â\\x94 Hillary Clinton (@HillaryClinton) June 14, 2016',\n",
              " 0)"
            ]
          },
          "metadata": {
            "tags": []
          },
          "execution_count": 53
        }
      ]
    },
    {
      "cell_type": "code",
      "metadata": {
        "id": "zGfsKIBEGojh",
        "colab_type": "code",
        "colab": {}
      },
      "source": [
        "sample2[:5]"
      ],
      "execution_count": 0,
      "outputs": []
    },
    {
      "cell_type": "code",
      "metadata": {
        "id": "RzBksLzTBV3c",
        "colab_type": "code",
        "colab": {}
      },
      "source": [
        "y = [1 if i=='Factual' else 0 for i in list(df['1'])]"
      ],
      "execution_count": 0,
      "outputs": []
    },
    {
      "cell_type": "code",
      "metadata": {
        "id": "GJAIB7q5G_Qg",
        "colab_type": "code",
        "outputId": "e158079c-8d8e-435d-84a9-c63e11fd665c",
        "colab": {
          "base_uri": "https://localhost:8080/",
          "height": 90
        }
      },
      "source": [
        "nltk.download('averaged_perceptron_tagger')"
      ],
      "execution_count": 0,
      "outputs": [
        {
          "output_type": "stream",
          "text": [
            "[nltk_data] Downloading package averaged_perceptron_tagger to\n",
            "[nltk_data]     /root/nltk_data...\n",
            "[nltk_data]   Unzipping taggers/averaged_perceptron_tagger.zip.\n"
          ],
          "name": "stdout"
        },
        {
          "output_type": "execute_result",
          "data": {
            "text/plain": [
              "True"
            ]
          },
          "metadata": {
            "tags": []
          },
          "execution_count": 28
        }
      ]
    },
    {
      "cell_type": "code",
      "metadata": {
        "id": "GNdSaoUYI2rg",
        "colab_type": "code",
        "outputId": "5be1ad12-fe37-4ad1-f769-8062b88fedf1",
        "colab": {
          "base_uri": "https://localhost:8080/",
          "height": 35
        }
      },
      "source": [
        "sample = sample2\n",
        "print(len(sample))"
      ],
      "execution_count": 0,
      "outputs": [
        {
          "output_type": "stream",
          "text": [
            "50000\n"
          ],
          "name": "stdout"
        }
      ]
    },
    {
      "cell_type": "code",
      "metadata": {
        "id": "PdYlWe1CFRuf",
        "colab_type": "code",
        "colab": {}
      },
      "source": [
        "def filterr1(sent):\n",
        "    a = word_tokenize(sent)\n",
        "    b = nltk.pos_tag(a)\n",
        "    c = [i for i in b if i[1] in ['JJ', 'MD']]\n",
        "    for i in a:\n",
        "        if i in ['said','told','according','telling','saying','wrote','proposed']:\n",
        "            return \"0\"\n",
        "    if len(c)!=0:\n",
        "        return sent\n",
        "    else:\n",
        "        return \"0\"\n",
        "    \n",
        "def filterr2(sent):\n",
        "    a = word_tokenize(sent)\n",
        "    b = nltk.pos_tag(a)\n",
        "    for i in b:\n",
        "        if i[1] in ['JJ', 'MD']:\n",
        "            return \"0\"   \n",
        "    return sent\n",
        "    \n",
        "def operations1(texts, idx):\n",
        "    print(idx)\n",
        "    filter_sample = sent_tokenize(texts) \n",
        "    filter_sample2 = [filterr1(i) for i in filter_sample]\n",
        "    while(\"0\" in filter_sample2):\n",
        "        filter_sample2.remove(\"0\")\n",
        "    if len(filter_sample2)!=0:\n",
        "        filter_sample4 = \" \".join(filter_sample2)\n",
        "        return filter_sample4\n",
        "    \n",
        "def operations2(texts, idx):\n",
        "    print(idx)\n",
        "    filter_sample = sent_tokenize(texts) \n",
        "    filter_sample2 = [filterr2(i) for i in filter_sample]\n",
        "    while(\"0\" in filter_sample2):\n",
        "        filter_sample2.remove(\"0\")\n",
        "    #if \"0\" in filter_sample2:\n",
        "     #   filter_sample2.remove(\"0\")\n",
        "    if len(filter_sample2)!=0:\n",
        "        filter_sample4 = \" \".join(filter_sample2)\n",
        "        return filter_sample4\n",
        "#    return filter_sample2\n",
        "\n",
        "    \n",
        "updated_samples = [operations1(i[0], idx) if i[1]==0 else operations2(i[0], idx) for idx, i in enumerate(sample)]"
      ],
      "execution_count": 0,
      "outputs": []
    },
    {
      "cell_type": "code",
      "metadata": {
        "id": "8d74IW0_azBR",
        "colab_type": "code",
        "outputId": "8febf058-f26e-4ebb-88e9-11093ef3ea0e",
        "colab": {
          "base_uri": "https://localhost:8080/",
          "height": 401
        }
      },
      "source": [
        "updated_samples[:20]"
      ],
      "execution_count": 0,
      "outputs": [
        {
          "output_type": "execute_result",
          "data": {
            "text/plain": [
              "['In light of some much pain and sorrow from the country to our dear community. I decided to create this open thread dedicated to gchaucer2 because she was one of my biggest fans and I hers. We connected through this primary and I know we will be celebrating and goofing around in Novemebr. Buy her book here\\n\\nAs a gay man , I also will not give in to terror and continue fighting for what I find is the correct path and the right choices to be made in the political arena and beyond. Polls close in DC at 830EST\\n\\nFor Orlando\\n\\nx YouTube Video\\n\\nFor GC\\n\\nx YouTube Video\\n\\nx This is one nation under God, indivisible, with liberty and justice for all. Ã¢Â\\x80Â\\x94 Hillary Clinton (@HillaryClinton) June 14, 2016',\n",
              " 'From Conservapedia\\n\\nSalzburg is the capital and biggest city of the federal state Salzburg, Austria.',\n",
              " 'However, journalists’ movements are closely managed and conversations with the people are monitored. She called the United States an imperialist power that wanted to occupy her country. Hyon however said she wanted reunification between North and South Korea.',\n",
              " 'They have all denied wrongdoing.',\n",
              " 'Embattled Daily Show successor Trevor Noah‘s stepfather once attempted to hunt him down and kill him after shooting his mother in the face. The Daily Mail reports Trevor’s South African mechanic stepdad, Abel Shingange, shot the comedian’s mother Patricia at their home in Johannesburg, South Africa, in 2009 and, believing she was dead, attempted to find a then-25-year-old Noah while armed with a handgun. The Daily Show heir’s grandmother tells the Mail Noah escaped with his life only because he was hard to find. So when Patricia’s husband began to hunt him he couldn’t find him… They are very lucky to be alive, thank you to God, Abel was a horrible, horrible man, I hated him. Trevor’s former stepdad was reportedly often violent and sometimes beat his mother with old bicycle frames and slapped her in public. In 2009, his actions were near fatal after he became jealous that Patricia was engaged to her current husband, a man named Sfiso Khoza, the site reports. “I am lucky to be alive. When God writes he has to write for humans and he gives you a message that God is bigger than death.”\\n\\nShe was rushed to the hospital and credits Noah with footing the bill for her private health care. “I was very grateful. Noah grew up in poverty in the Soweto township in South Africa and was named in honor of his mother’s favorite Hollywood star: John Travolta. The son of a white Swiss father and a black South African mother, Noah reportedly struggled growing up in the divided country. He became a regular contributor only four months ago. The 31-year-old South African came under fire from critics on both the left and the right of American politics Tuesday when old posts surfaced from his Twitter account, which many determined to be racist, sexist, and anti-Semitic. Watch Trevor Noah’s first appearance on the Daily Show:',\n",
              " None,\n",
              " 'ROCK STAR TREATMENT Musk’s celebrity status preceded him, as some visitors pushed and shoved their way into the crowded hall before the event began. Elon Musk arrives to speak at Boring Company community meeting in Bel Air, Los Angeles, California, U.S. May 17, 2018. REUTERS/Lucy NicholsonWhether staunch critics were swayed remained to be seen. “You won’t hear us, you won’t feel us, you won’t even know we exist,” Davis said.',\n",
              " 'Larry Hunter claims he is a “lifelong conservative.” Yet, in his recent New York Daily News article, he also says he is voting for Barack Obama for president. The two simply cannot coexist. One has to be obliterated in favor of the other. And, regardless of the facile reasoning Hunter gives for his apostasy, this article does nothing to support any supposed conservative cause. Larry Hunter begins by assuring us of his conservative credentials. A supply sider from the Reagan White House, Hunter had a 5-year-long stint as chief economist at the U.S. Chamber of Commerce, was a member of Bob Dole’s economic team for the 1996 presidential race and was chief economist for Jack Kemp’s Empower America. All of this does confirm his economic conservatism. Still, regardless, we can take at face value his credentials and mark him as generally on the right side of the issues. It turns out he isn’t voting “for” Barack Obama, he’s voting against the Republican Party. And that is NOT a legitimate reason to mark the ballot for Obama. Hunter’s “reasons” are ill considered, filled with petulance, and self-defeating to the ideology to which he insists he hews. The answer is simple: Unjustified war and unconstitutional abridgment of individual rights vs. ill-conceived tax and economic policies – this is the difference between venial and mortal sins. There is, of course, much room for honest debate on whether the war was justified or not. But that we are fairly in it regardless makes the debate of little interest in the contemporary decision making process. Hunter’s second reason, the “unconstitutional abridgment of individual rights” is simply absurd. There have been no such abridgments. If Hunter means the reputed abridgment of the non existent rights of the terrorists, it is even more absurd. Additionally, when compared to the actions of past presidents in past wars, Bush’s efforts seem wonderfully measured and moderate. But it is his last part that is most absurd, that of the “mortal sins” of bad economic policy. I am no fan of much of Bush’s domestic policies, but to use these failures as an excuse to vote for a party that will institute socialist inspired policies that will make Bush’s policies seem as if it was crafted by Joseph A. Schumpeter or Milton Friedman, well that simply makes no logical sense at all! Admittedly, what conservative isn’t mad at the Bush administration? There really are but a handful of things Bush did well — or at least stood on the right side of the issue over — so no conservative has been happy since he took office. So-called “compassionate conservatism” was merely an excuse for big-goverment, no conservative denies that. Additionally, few conservatives trust McCain to be much better. However, we can at least say that McCain has a lifelong aversion to raising taxes and is a consistent budget hawk. Certainly all a voter can base his vote on is the record, not the rhetoric and campaign promises, and McCain’s economic record places him in the conservative camp. Obama’s, on the other hand, is a socialist’s record. There is nothing whatever conservative or even moderate about Barack Obama’s actual voting record. For an economist mad at the Bush administration’s economic record and calling that record a “venal and mortal sin” because of its lack of conservative principle to then vote for a man who’s record places him on the socialist side of the line is just plain foolish. But, what we can easily see is that Larry Hunter seems to hail from the abjectly isolationist, paleo-conservative branch of conservatism because the war appears to be his overriding concern. But how we extract ourselves from the bloody boondoggle in Iraq, how we avoid getting into a war with Iran and how we preserve our individual rights while dealing with real foreign threats – these are of greater importance. This claim of Iraq being a “bloody boondoggle” is simple-minded rhetoric at best, an outright lie at worst. But to Iran his assumption is, of course, that we must avoid a war with Iran. In fact, his base assumption that war with Iran must be avoided places him in the immoral, Chamberlainesque, peace-in-our-times camp and that camp is not “conservative” but merely blind. And even as he reiterates his nonsensical feeling that all our “individual rights” have been violated by Bush, he hasn’t a case to make there but one based on wild-eyed alarmism. First he says where he imagines the candidates stand on the war based on what he’s heard them say. John McCain would continue the Bush administration’s commitment to interventionism and constitutional overreach. Hunter bases his feeling on Obama’s suitably “conservative” ideas on foreign policy on the man’s rhetoric on the campaign trail and uses that as an excuse to bash McCain. OK, well and good. But, then Hunter immediately follows that with the next paragraph. Plus, when it comes to domestic issues, I don’t take Obama at his word. That may sound cynical. But the fact that he says just about all the wrong things on domestic issues doesn’t bother me as much as it once would have. It is a sad commentary on American politics today, but it’s taken as a given that politicians, all of them, must pander, obfuscate and prevaricate. This is stunningly facile reasoning. On one hand he fully believes Obama’s unsupportable campaign rhetoric on what his foreign policy will be — unsupportable because he has no track record by which to prove his claims, quite unlike McCain — but then goes on to say he doesn’t believe what Obama says about domestic policy and can, therefore, completely blow off Obama’s rhetoric! Talk about cognitive dissonance. How can a candidate’s word be taken for gospel on one issue but not on any others? Either Obama’s rhetoric can be believed or it cannot, especially in light of his actual voting record. Then Hunter foolishly launches into off handed praise for Obama’s “centrist advisers” and uses that as an excuse to support his candidacy. But the record is the record and Obama has not ever had a record of voting for any “centrist” positions. But, for all his carping about Bush and the Republican’s economic failures, despite his entire life’s service as a conservative economist, Hunter gives us a contradictory line about Obama. But here’s the thing: Even if my hopes on domestic policy are dashed and Obama reveals himself as an unreconstructed, dyed-in-the-wool, big-government liberal, I’m still voting for him. Consequently, we see that Hunter’s overarching problem is the foreign policy issue. He feels that Bush has illegitimately “spent over a trillion dollars on foreign soil – and lost countless lives – and done what I consider irreparable damage to our Constitution.” He thinks that McCain will merely continue Bush’s bad policies and this is enough to make him vote Obama. If economic damage from well-intentioned but misbegotten Obama economic schemes is the ransom we must pay him to clean up this foreign policy mess, then so be it. It’s not nearly as costly as enduring four more years of what we suffered the last eight years. In this I have to say that Larry Hunter has no clue what the word “suffered” means. Our economy has not “suffered” too badly from the expenditures in Iraq and Afghanistan. Obviously, the war has touched only a small portion of our people and few Americans have been much put out by it. Even the battle deaths are miniscule compared to any of our past wars. (And YES, speaking as a father of one of our soldiers, it is heartrending to lose even one soldier)\\n\\nLarry Hunter reveals himself to be Chicken Little where it concerns our current level of “suffering” and a complete traitor to all other conservative causes on nearly every level in his hyperventilating over the matter. One can legitimately refuse to vote for John McCain, but to actually and purposefully vote for Barack Obama is a direct stab in the heart to supposed conservative principles. One can only presume that Larry Hunter does not really find a principle an insoluble idea but considers it, rather, something that can be dispensed with on a whim. And to be sure, being anti-War is not a “conservative” principle. It is, in fact, its very own principle, a pacifist’s. Pacifism is not a conservative principle but a utopian’s. It is a foolhardy idea based on a failed assumption about the innate goodness of human kind and it is a decidedly unAmerican ideal. Even as far back as George Washington, a truly American principle is to constantly be ready for war — that being the only true guarantee of peace. And being ready for war also means to be willing to engage in it. Larry Hunter believes that getting out of war, in any manner at all, should be the nation’s only priority. And he believes with a faith of religious proportions that Barack Obama will fulfill that wish. Larry Hunter’s only problem is that the train he hopes Obama will catch has long since left the station and that any moves to precipitously withdraw from the Mid East now would do far more damage to the world in general and the United States in particular and will pale in comparison to the economic damage the Obama will do to this nation. All following Hunter’s prescription will do is give us a bad economy and even worse foreign policy than we currently have. If Larry Hunter imagines the GOP has strayed, voting for its mirror opposite does nothing to help right the only party that would even come close to his proclaimed principles. The axiom of cutting off one’s nose despite one’s face applies here in spades. He has damaged the Republican brand further, damaged the economy should enough people follow his recommendation, and endangered us all on the war on terror. He has also foolishly handed the MSM ammunition that they will turn on every single principle, but one, that he seems to claim to hold dear. And even that one is a dangerous one to pursue for this nation. Sadly, in every area, Larry Hunter the “lifelong conservative” is dangerously wrong. (Photo credit: the National Tax-Limitation Committee)\\n\\nBe sure and Visit my Home blog Publius’ Forum.',\n",
              " \"Cyclone Maarutha made landfall on Myanmar's Rakhine coast on Monday night.\",\n",
              " 'It is a bit rich for P. Chidambaram to suggest that the Modi government might be losing Kashmir. The Indian state is neither so fragile nor so fickle-minded as to allow anyone to snatch Kashmir from us.',\n",
              " 'Perpetrators in two of the highest-profile ISIS attacks, on the Bardo Museum in Tunis and a coastal resort in Sousse in 2015, reportedly trained in Libya.',\n",
              " None,\n",
              " 'On 18 February, 2007, blasts went off in the Samjhauta train - which runs between Delhi, India and Lahore, Pakistan - near Panipat in Haryana.',\n",
              " None,\n",
              " 'This article is the second part of a two-part series. The first can be found here. First, you change his stable. U.S. officials advise every other country in the world to put human trafficking where it belongs: Department of Justice. Criminal behavior belongs where it can be investigated, prosecuted and adjudicated. President Trump should move the Trafficking in Persons office out of the State Department into the agency that has the stable of investigators and prosecutors to get the rapists, kidnappers, terrorists, and human traffickers off the streets, and out of the business of profiting from human misery. Once law enforcement looks at the RFP, the creation of a global fund, and a huge slush fund, they will no doubt see the project for what it is: a program that will become bloated and impossible to cut because of the great PR value. Replace it with one whose goal, to stop slavery and protect children, is stated clearly in measurable terms and deadlines, but first the problem of human trafficking must be clearly defined. Third, establish a human trafficking conference in Washington with people who are actively engaged in programs that are succeeding in their objectives in various aspects of human trafficking: corporate policies and practices, law enforcement, legislation, intervention in migrant camps, foster care, and restoration and recovery, and preventive measures. Which areas are the most productive to focus time, money and effort on to achieve the greatest impact? These are the important questions the administration needs to be getting answers to before any RFP is issued. Then, the administration needs to appoint a person whose leadership, integrity and management expertise are beyond reproach and hold that person responsible for annual reports on the work that has been done and plans for remediation of programs that do not work. For the last 17 years we in the arena have had to educate those ignorant that slavery exists in the 21st Century. Now, we need to stop the politics, take the moral high ground at whatever costs and get true moral and bold leadership that holds no prisoners when it comes to ending slavery in the 21st Century on the street and over the internet, and reduce the numbers. Human trafficking cannot be eradicated or dramatically reduced unless this administration takes on Silicon Valley. This administration has an historical opportunity to lead on this issue and not bend to the swamp politics in which this issue has been embedded since Bill Clinton signed the federal law against human trafficking in October 2000. Foreign governments know the information used in the annual Trafficking Report at State Department has been wrong for years. The NGOs won’t take on Silicon Valley because they financially benefit from them. That is how Silicon Valley corporations cover themselves. It is all part of the swamp – off the backs of children and the most vulnerable in society. To date – we have never even had a full throttle national inquiry on the institutional abuse of children as the UK and Australia do. We need a Grace Commission like the one on Government Waste in the late 1980s. Shame on America when they say they want to lead on this issue when the incongruences of what we say is not matched by bold action, as compared to our mates – the Brits and Aussies. It is not a complete one-step correction, but it is more than we have internally done in America. This administration must demand that Silicon Valley post the 911 icon REPORT ABUSE button at www.virtualglobaltaskforce.com. This international law enforcement task force was created in 2003 by ninja law enforcement – four men – a Brit named Jim Gamble, who was then CEO of UK’s Child Exploitation Online Protection agency, John Clark at U.S. ICE, Kevin Zuccato at Australian Federal Police and a man at the Royal Canadian Mounted Police. Because Silicon Valley lawyers refused to give foreign law enforcement the data they needed for evidence to take on the maggots raping, grooming, and trafficking children over the internet, and collecting and distributing internet pedo-criminality images worldwide. Silicon Valley lawyers’ stated excuses were – “you have no jurisdiction” to foreign law enforcement. Jim Gamble was the powerful wind in the sail for VGT. The VGT icon has never been marketed fully by any American administration to date; the current administration can be that catalyst. White House staff needs to study it, and then President Trump needs to sign a Presidential Directive to put the VGT icon linking to their REPORT ABUSE button on every USG site to make it known to children and parents, and demand that the Silicon Valley put it all over their sites if they want to do business with families. Social media sites have access to children that establishes an ethical and, one can argue, a legal responsibility to ensure their safety. Clearly, that is only one step; the obvious one is to monitor the material that is posted, which Silicon Valley does not do effectively. Recently, the BBC challenged Zuckerberg directly about internet pedo-criminality images. How ironic that is. In 2010, Jim Gamble challenged Zuckerberg to post the VGT icon all over Facebook, and Facebook refused, citing that it was “expensive real estate.”\\n\\nSilicon Valley has a huge corporate responsibility for the expansion of smut that this administration needs to address in a diligent way. In the 1990s, AOL knew internet child porn was a problem, and it is an even greater problem today. It is yet another reason human trafficking must be in the Department of Justice. If the crimes are illegal on the street, they are illegal over the internet. Law enforcement must investigate diligently and determine how best to solve the problem of using the Internet and social media for expanding human trafficking. Every law enforcement official in the world knows that traffickers and pedophiles use porn to groom children. People need to get serious about child rape and slavery in the 21st Century because peoples’ lives are shattered. Senator Grassley signed a letter in 2012 and cited congressional testimony that 83% of the victims in these horrific images were 6 – 12 years of age; 19% of them were of babies and infants three years of age or younger. Today, both Verizon and Comcast offer incest-themed porn. And, when you cross-reference which politicians accept their political donations, it makes one wonder if there is a moral compass on Capitol Hill. When infants and very young children are raped on live streams over the internet as these cybercrime law enforcement officials know, eyes should be popping with disgust and horror in halls of power. When law enforcement finds maggots trolling over the internet wanting to buy babies to boil, and cannibalize, as these law enforcement know, the public outcry should be at its height. The public needs to wake up, and grasp how serious human trafficking is, and what a sham this is when large NGOs claim they are fighting human trafficking without taking on Silicon Valley in the Digital Age of Slavery. Conferences where NGOs slap each other on the back for passing more ineffective regulations, and pay lip service to this issue do not protect children or end human trafficking. What this endeavor needs is bold leadership akin to Ida Tarp going after Standard Oil, or Teddy Roosevelt going after the railroads. America will love a president who protects their children. The ultimate goal should be to prevent the increase in the population of human trafficked victims by protecting children worldwide, and shut down the operations that fuel this insidious commodification of human beings with vengeance and a Churchillian commitment the likes of which this arena has yet to witness. Christine Dolan is an investigative journalist, and the former CNN Political Director. She is an authority on human trafficking globally having covered it for over 17 years. She is the author of Shattered Innocence – The Millennium Holocaust, and In the Name of God, two authoritative investigations on the global phenomenon of human trafficking, and the global Catholic abuse scandals.',\n",
              " 'Even then success is not guaranteed. The offshore scrutiny of assets has already begun in the Gulf region, where Saudi Arabia regularly shares information.',\n",
              " 'See the end of list for posts already filled. Circuit Court of Appeals. Bush, respectively.',\n",
              " None,\n",
              " 'Together we build journalism that is independent, credible and fearless. You can further help us by making a donation.',\n",
              " None]"
            ]
          },
          "metadata": {
            "tags": []
          },
          "execution_count": 114
        }
      ]
    },
    {
      "cell_type": "code",
      "metadata": {
        "id": "5jUBTKMXLLjx",
        "colab_type": "code",
        "colab": {}
      },
      "source": [
        "new_grps = [(i, j) for i,j in zip(updated_samples, y)]"
      ],
      "execution_count": 0,
      "outputs": []
    },
    {
      "cell_type": "code",
      "metadata": {
        "id": "P-BS3ZkfcaSo",
        "colab_type": "code",
        "colab": {}
      },
      "source": [
        "df.to_csv('/content/drive/My Drive/Data/fact vs opinion/FACTVSOP_DATASET.csv', index = False)"
      ],
      "execution_count": 0,
      "outputs": []
    },
    {
      "cell_type": "markdown",
      "metadata": {
        "id": "EruwJjoBbQ6V",
        "colab_type": "text"
      },
      "source": [
        "# Loading Data and Trainning\n"
      ]
    },
    {
      "cell_type": "code",
      "metadata": {
        "id": "s5uFTRcdYAiT",
        "colab_type": "code",
        "outputId": "61242a19-dc95-4551-c484-c994650b4065",
        "colab": {
          "base_uri": "https://localhost:8080/",
          "height": 359
        }
      },
      "source": [
        "df = pd.read_csv('/content/drive/My Drive/Data/fact vs opinion/sent_level/FACTVSOP_DATASET.csv')\n",
        "df.head(10)"
      ],
      "execution_count": 0,
      "outputs": [
        {
          "output_type": "execute_result",
          "data": {
            "text/html": [
              "<div>\n",
              "<style scoped>\n",
              "    .dataframe tbody tr th:only-of-type {\n",
              "        vertical-align: middle;\n",
              "    }\n",
              "\n",
              "    .dataframe tbody tr th {\n",
              "        vertical-align: top;\n",
              "    }\n",
              "\n",
              "    .dataframe thead th {\n",
              "        text-align: right;\n",
              "    }\n",
              "</style>\n",
              "<table border=\"1\" class=\"dataframe\">\n",
              "  <thead>\n",
              "    <tr style=\"text-align: right;\">\n",
              "      <th></th>\n",
              "      <th>0</th>\n",
              "      <th>1</th>\n",
              "      <th>cleaned_corpus</th>\n",
              "    </tr>\n",
              "  </thead>\n",
              "  <tbody>\n",
              "    <tr>\n",
              "      <th>0</th>\n",
              "      <td>In light of some much pain and sorrow from the...</td>\n",
              "      <td>0</td>\n",
              "      <td>in light of some much pain and sorrow from the...</td>\n",
              "    </tr>\n",
              "    <tr>\n",
              "      <th>1</th>\n",
              "      <td>From Conservapedia\\n\\nSalzburg is the capital ...</td>\n",
              "      <td>0</td>\n",
              "      <td>from conservapedia salzburg is the capital and...</td>\n",
              "    </tr>\n",
              "    <tr>\n",
              "      <th>2</th>\n",
              "      <td>However, journalists’ movements are closely ma...</td>\n",
              "      <td>1</td>\n",
              "      <td>however  journalists  movements are closely ma...</td>\n",
              "    </tr>\n",
              "    <tr>\n",
              "      <th>3</th>\n",
              "      <td>They have all denied wrongdoing.</td>\n",
              "      <td>1</td>\n",
              "      <td>they have all denied wrongdoing</td>\n",
              "    </tr>\n",
              "    <tr>\n",
              "      <th>4</th>\n",
              "      <td>Embattled Daily Show successor Trevor Noah‘s s...</td>\n",
              "      <td>0</td>\n",
              "      <td>embattled daily show successor trevor noah  s ...</td>\n",
              "    </tr>\n",
              "    <tr>\n",
              "      <th>5</th>\n",
              "      <td>ROCK STAR TREATMENT Musk’s celebrity status pr...</td>\n",
              "      <td>1</td>\n",
              "      <td>rock star treatment musk  s celebrity status p...</td>\n",
              "    </tr>\n",
              "    <tr>\n",
              "      <th>6</th>\n",
              "      <td>Larry Hunter claims he is a “lifelong conserva...</td>\n",
              "      <td>0</td>\n",
              "      <td>larry hunter claims he is a  lifelong conserva...</td>\n",
              "    </tr>\n",
              "    <tr>\n",
              "      <th>7</th>\n",
              "      <td>Cyclone Maarutha made landfall on Myanmar's Ra...</td>\n",
              "      <td>1</td>\n",
              "      <td>cyclone maarutha made landfall on myanmar s ra...</td>\n",
              "    </tr>\n",
              "    <tr>\n",
              "      <th>8</th>\n",
              "      <td>It is a bit rich for P. Chidambaram to suggest...</td>\n",
              "      <td>0</td>\n",
              "      <td>it is a bit rich for p chidambaram to suggest ...</td>\n",
              "    </tr>\n",
              "    <tr>\n",
              "      <th>9</th>\n",
              "      <td>Perpetrators in two of the highest-profile ISI...</td>\n",
              "      <td>0</td>\n",
              "      <td>perpetrators in two of the highestprofile isis...</td>\n",
              "    </tr>\n",
              "  </tbody>\n",
              "</table>\n",
              "</div>"
            ],
            "text/plain": [
              "                                                   0  ...                                     cleaned_corpus\n",
              "0  In light of some much pain and sorrow from the...  ...  in light of some much pain and sorrow from the...\n",
              "1  From Conservapedia\\n\\nSalzburg is the capital ...  ...  from conservapedia salzburg is the capital and...\n",
              "2  However, journalists’ movements are closely ma...  ...  however  journalists  movements are closely ma...\n",
              "3                   They have all denied wrongdoing.  ...                   they have all denied wrongdoing \n",
              "4  Embattled Daily Show successor Trevor Noah‘s s...  ...  embattled daily show successor trevor noah  s ...\n",
              "5  ROCK STAR TREATMENT Musk’s celebrity status pr...  ...  rock star treatment musk  s celebrity status p...\n",
              "6  Larry Hunter claims he is a “lifelong conserva...  ...  larry hunter claims he is a  lifelong conserva...\n",
              "7  Cyclone Maarutha made landfall on Myanmar's Ra...  ...  cyclone maarutha made landfall on myanmar s ra...\n",
              "8  It is a bit rich for P. Chidambaram to suggest...  ...  it is a bit rich for p chidambaram to suggest ...\n",
              "9  Perpetrators in two of the highest-profile ISI...  ...  perpetrators in two of the highestprofile isis...\n",
              "\n",
              "[10 rows x 3 columns]"
            ]
          },
          "metadata": {
            "tags": []
          },
          "execution_count": 6
        }
      ]
    },
    {
      "cell_type": "code",
      "metadata": {
        "id": "jpQ3yw37aVmA",
        "colab_type": "code",
        "colab": {}
      },
      "source": [
        "texts = list(df['0'])\n",
        "y = list(df['1'])"
      ],
      "execution_count": 0,
      "outputs": []
    },
    {
      "cell_type": "code",
      "metadata": {
        "id": "-eMgc2_3ibqo",
        "colab_type": "code",
        "outputId": "582ce54e-bc1f-464a-ccc4-a6343cbaeafb",
        "colab": {
          "base_uri": "https://localhost:8080/",
          "height": 34
        }
      },
      "source": [
        "len(texts)"
      ],
      "execution_count": 0,
      "outputs": [
        {
          "output_type": "execute_result",
          "data": {
            "text/plain": [
              "28230"
            ]
          },
          "metadata": {
            "tags": []
          },
          "execution_count": 8
        }
      ]
    },
    {
      "cell_type": "code",
      "metadata": {
        "id": "KuBuEaAg6juZ",
        "colab_type": "code",
        "colab": {}
      },
      "source": [
        "b = word_tokenize('my name is ashutosh')\n",
        "len(b)"
      ],
      "execution_count": 0,
      "outputs": []
    },
    {
      "cell_type": "code",
      "metadata": {
        "id": "O4d5tTM_6Zmy",
        "colab_type": "code",
        "colab": {}
      },
      "source": [
        "len(word_tokenize(texts[200]))"
      ],
      "execution_count": 0,
      "outputs": []
    },
    {
      "cell_type": "code",
      "metadata": {
        "id": "VDJDpSL7YivX",
        "colab_type": "code",
        "outputId": "d7882408-1b49-4428-9908-b7ef0e4c3083",
        "colab": {
          "base_uri": "https://localhost:8080/",
          "height": 72
        }
      },
      "source": [
        "nltk.download('punkt')"
      ],
      "execution_count": 0,
      "outputs": [
        {
          "output_type": "stream",
          "text": [
            "[nltk_data] Downloading package punkt to /root/nltk_data...\n",
            "[nltk_data]   Package punkt is already up-to-date!\n"
          ],
          "name": "stdout"
        },
        {
          "output_type": "execute_result",
          "data": {
            "text/plain": [
              "True"
            ]
          },
          "metadata": {
            "tags": []
          },
          "execution_count": 255
        }
      ]
    },
    {
      "cell_type": "code",
      "metadata": {
        "id": "MaepwZyUCJf2",
        "colab_type": "code",
        "colab": {}
      },
      "source": [
        "cleaned_corpus = [clean(i, idx) for idx, i in enumerate(texts)]\n",
        "cleaned_corpus"
      ],
      "execution_count": 0,
      "outputs": []
    },
    {
      "cell_type": "code",
      "metadata": {
        "id": "FBI-Wgt2CMqh",
        "colab_type": "code",
        "colab": {}
      },
      "source": [
        "texts = cleaned_corpus\n",
        "#df['cleaned_corpus'] = cleaned_corpus"
      ],
      "execution_count": 0,
      "outputs": []
    },
    {
      "cell_type": "code",
      "metadata": {
        "id": "ZvUWzt2lcXcJ",
        "colab_type": "code",
        "colab": {}
      },
      "source": [
        "max_len = 25\n",
        "from keras.preprocessing.text import Tokenizer\n",
        "from keras.preprocessing.sequence import pad_sequences\n",
        "\n",
        "tk = Tokenizer()\n",
        "tokenizer = tk.fit_on_texts(pd.Series(texts))\n",
        "X_tokenized= tk.texts_to_sequences(pd.Series(texts).fillna('UNK'))\n",
        "X = pad_sequences(X_tokenized, maxlen = max_len, padding = 'post', truncating= 'post')"
      ],
      "execution_count": 0,
      "outputs": []
    },
    {
      "cell_type": "code",
      "metadata": {
        "id": "-CjAPGhu78NL",
        "colab_type": "code",
        "colab": {}
      },
      "source": [
        "with open('/content/drive/My Drive/Data/fact vs opinion/TOKENIZER_NEW.h5', 'wb') as handle:\n",
        "    pickle.dump(tk, handle, protocol=pickle.HIGHEST_PROTOCOL)"
      ],
      "execution_count": 0,
      "outputs": []
    },
    {
      "cell_type": "code",
      "metadata": {
        "id": "jOgKz332cv99",
        "colab_type": "code",
        "colab": {}
      },
      "source": [
        "import pickle\n",
        "glove = pickle.load(open('/content/drive/My Drive/Glove Emb/news_glove/glove.42B.300d.pkl','rb')) "
      ],
      "execution_count": 0,
      "outputs": []
    },
    {
      "cell_type": "code",
      "metadata": {
        "id": "IqJNaceD70xG",
        "colab_type": "code",
        "colab": {}
      },
      "source": [
        "a = [(i, j) for i, j in zip(cleaned_corpus, y)]\n",
        "a[:30]"
      ],
      "execution_count": 0,
      "outputs": []
    },
    {
      "cell_type": "code",
      "metadata": {
        "id": "JLdgAmy_dA1w",
        "colab_type": "code",
        "outputId": "9fd0ecb6-be29-4fac-bbe5-92193757ea1f",
        "colab": {
          "base_uri": "https://localhost:8080/",
          "height": 35
        }
      },
      "source": [
        "import numpy as np\n",
        "EMBEDDING_DIM = 300\n",
        "word_index = tk.word_index\n",
        "nb_words = len(word_index) + 1\n",
        "embedding_matrix = np.zeros((nb_words, EMBEDDING_DIM))\n",
        "for word, i in word_index.items():\n",
        "    if word in glove: \n",
        "        embedding_matrix[i] = glove[word]\n",
        "    elif word.lower() in glove:\n",
        "        embedding_matrix[i] = glove[word.lower()]\n",
        "\n",
        "print('Null word embeddings: %d' % np.sum(np.sum(embedding_matrix, axis=1) == 0))"
      ],
      "execution_count": 0,
      "outputs": [
        {
          "output_type": "stream",
          "text": [
            "Null word embeddings: 36531\n"
          ],
          "name": "stdout"
        }
      ]
    },
    {
      "cell_type": "code",
      "metadata": {
        "id": "l08WukYVdeoO",
        "colab_type": "code",
        "outputId": "009722b3-0104-4a24-917d-1b0496a3d719",
        "colab": {
          "base_uri": "https://localhost:8080/",
          "height": 35
        }
      },
      "source": [
        "nb_words"
      ],
      "execution_count": 0,
      "outputs": [
        {
          "output_type": "execute_result",
          "data": {
            "text/plain": [
              "122886"
            ]
          },
          "metadata": {
            "tags": []
          },
          "execution_count": 260
        }
      ]
    },
    {
      "cell_type": "code",
      "metadata": {
        "id": "yqs1XtTYdiN2",
        "colab_type": "code",
        "colab": {}
      },
      "source": [
        "z = []\n",
        "for i in range(embedding_matrix.shape[0]):\n",
        "    if np.sum(embedding_matrix[i]) == 0:\n",
        "        z.append(i)"
      ],
      "execution_count": 0,
      "outputs": []
    },
    {
      "cell_type": "code",
      "metadata": {
        "id": "muBjinc0drNH",
        "colab_type": "code",
        "colab": {}
      },
      "source": [
        "listt = []\n",
        "for idx, (word, i) in enumerate(word_index.items()):\n",
        "    if i in z:\n",
        "        listt.append(word)\n",
        "    if idx==5000:\n",
        "        break"
      ],
      "execution_count": 0,
      "outputs": []
    },
    {
      "cell_type": "code",
      "metadata": {
        "id": "qZ3dlLsmdsYb",
        "colab_type": "code",
        "outputId": "80a1aa8d-cce9-4e62-8ba6-29d179d5e453",
        "colab": {
          "base_uri": "https://localhost:8080/",
          "height": 35
        }
      },
      "source": [
        "embedding_matrix.shape"
      ],
      "execution_count": 0,
      "outputs": [
        {
          "output_type": "execute_result",
          "data": {
            "text/plain": [
              "(122886, 300)"
            ]
          },
          "metadata": {
            "tags": []
          },
          "execution_count": 36
        }
      ]
    },
    {
      "cell_type": "code",
      "metadata": {
        "id": "2eG_1PS9dt3I",
        "colab_type": "code",
        "outputId": "795c34f1-f022-4fd6-96d2-ef14f2b2cbbe",
        "colab": {
          "base_uri": "https://localhost:8080/",
          "height": 74
        }
      },
      "source": [
        "train = np.zeros((X.shape[0], max_len, EMBEDDING_DIM))\n",
        "for i in range(X.shape[0]):\n",
        "    train[i] = embedding_matrix[[X[i]]]"
      ],
      "execution_count": 0,
      "outputs": [
        {
          "output_type": "stream",
          "text": [
            "/usr/local/lib/python3.6/dist-packages/ipykernel_launcher.py:3: FutureWarning: Using a non-tuple sequence for multidimensional indexing is deprecated; use `arr[tuple(seq)]` instead of `arr[seq]`. In the future this will be interpreted as an array index, `arr[np.array(seq)]`, which will result either in an error or a different result.\n",
            "  This is separate from the ipykernel package so we can avoid doing imports until\n"
          ],
          "name": "stderr"
        }
      ]
    },
    {
      "cell_type": "code",
      "metadata": {
        "id": "1oyDgAKweNqz",
        "colab_type": "code",
        "outputId": "7f7c2324-f506-4e36-825c-7fb79a5a2b35",
        "colab": {
          "base_uri": "https://localhost:8080/",
          "height": 35
        }
      },
      "source": [
        "train.shape"
      ],
      "execution_count": 0,
      "outputs": [
        {
          "output_type": "execute_result",
          "data": {
            "text/plain": [
              "(28230, 25, 300)"
            ]
          },
          "metadata": {
            "tags": []
          },
          "execution_count": 267
        }
      ]
    },
    {
      "cell_type": "code",
      "metadata": {
        "id": "TPRVDW2o_ATv",
        "colab_type": "code",
        "colab": {}
      },
      "source": [
        ""
      ],
      "execution_count": 0,
      "outputs": []
    },
    {
      "cell_type": "code",
      "metadata": {
        "id": "fUIWG8moeLEm",
        "colab_type": "code",
        "colab": {}
      },
      "source": [
        "keras.backend.clear_session()\n",
        "def lstm_model():\n",
        "    \"\"\"\n",
        "    Model definiton for CPU\n",
        "    :param nb_words: int-Number of words in embedding layer\n",
        "    :return: Model\n",
        "    \"\"\"\n",
        "    \n",
        "    inp = Input(shape=(max_len, 300))\n",
        "    x = LSTM(15, return_sequences=True)(inp)\n",
        "\n",
        "    x = Flatten()(x)\n",
        "    x = Dense(10, activation=\"relu\")(x)\n",
        "    #x = BatchNormalization()(x)\n",
        "    #x = Dropout(0.22)(x)\n",
        "    x = Dense(5, activation=\"relu\")(x)\n",
        "    x = Dense(1, activation=\"sigmoid\")(x)\n",
        "    model = Model(inputs=inp, outputs=x)\n",
        "    model.compile(loss='binary_crossentropy', optimizer='adam', metrics=['accuracy'])\n",
        "    return model\n",
        "model = lstm_model()"
      ],
      "execution_count": 0,
      "outputs": []
    },
    {
      "cell_type": "code",
      "metadata": {
        "id": "-MvDimLKhEgK",
        "colab_type": "code",
        "colab": {}
      },
      "source": [
        "from sklearn.model_selection import train_test_split\n",
        "X_train, X_test, y_train, y_test = train_test_split(train, y, test_size=0.15, random_state=42)"
      ],
      "execution_count": 0,
      "outputs": []
    },
    {
      "cell_type": "code",
      "metadata": {
        "id": "vRCxZ_krhUp2",
        "colab_type": "code",
        "outputId": "9540d12d-df08-4fea-f285-fa2cb7328961",
        "colab": {
          "base_uri": "https://localhost:8080/",
          "height": 272
        }
      },
      "source": [
        "model = lstm_model()\n",
        "from keras.callbacks import ModelCheckpoint\n",
        "\n",
        "filepath=\"/content/drive/My Drive/Data/fact vs opinion/FACTVSOP_NEW.h5\"\n",
        "checkpoint = ModelCheckpoint(filepath, monitor='val_loss', verbose=1, save_best_only=True, mode='min')\n",
        "callbacks = [checkpoint]\n",
        "model = lstm_model()\n",
        "model.fit(X_train, y_train, batch_size=64, epochs=3, validation_data=(X_test, y_test), verbose=1, callbacks=callbacks)"
      ],
      "execution_count": 0,
      "outputs": [
        {
          "output_type": "stream",
          "text": [
            "Train on 23995 samples, validate on 4235 samples\n",
            "Epoch 1/3\n",
            "23995/23995 [==============================] - 12s 518us/step - loss: 0.6077 - acc: 0.6711 - val_loss: 0.5826 - val_acc: 0.6848\n",
            "\n",
            "Epoch 00001: val_loss improved from inf to 0.58256, saving model to /content/drive/My Drive/Data/fact vs opinion/FACTVSOP_NEW.h5\n",
            "Epoch 2/3\n",
            "23995/23995 [==============================] - 11s 474us/step - loss: 0.5599 - acc: 0.7000 - val_loss: 0.5676 - val_acc: 0.6911\n",
            "\n",
            "Epoch 00002: val_loss improved from 0.58256 to 0.56756, saving model to /content/drive/My Drive/Data/fact vs opinion/FACTVSOP_NEW.h5\n",
            "Epoch 3/3\n",
            "23995/23995 [==============================] - 11s 473us/step - loss: 0.5418 - acc: 0.7092 - val_loss: 0.5636 - val_acc: 0.6961\n",
            "\n",
            "Epoch 00003: val_loss improved from 0.56756 to 0.56361, saving model to /content/drive/My Drive/Data/fact vs opinion/FACTVSOP_NEW.h5\n"
          ],
          "name": "stdout"
        },
        {
          "output_type": "execute_result",
          "data": {
            "text/plain": [
              "<keras.callbacks.History at 0x7fb5f91d5668>"
            ]
          },
          "metadata": {
            "tags": []
          },
          "execution_count": 198
        }
      ]
    },
    {
      "cell_type": "code",
      "metadata": {
        "id": "eIn49RXjmZWH",
        "colab_type": "code",
        "colab": {}
      },
      "source": [
        "model = lstm_model()\n",
        "model.load_weights('/content/drive/My Drive/Data/fact vs opinion/sent_level/FACTVSOP_NEW.h5')"
      ],
      "execution_count": 0,
      "outputs": []
    },
    {
      "cell_type": "code",
      "metadata": {
        "id": "i98MNiOh2GuW",
        "colab_type": "code",
        "colab": {}
      },
      "source": [
        "y_pred = model.predict([X_test], batch_size=1024, verbose=2)\n",
        "y_pred = (y_pred>0.5) + 0"
      ],
      "execution_count": 0,
      "outputs": []
    },
    {
      "cell_type": "code",
      "metadata": {
        "id": "F8RAI-Kg32rO",
        "colab_type": "code",
        "outputId": "68d8ec38-7be4-4a4c-cd12-45ceca29c6c7",
        "colab": {
          "base_uri": "https://localhost:8080/",
          "height": 181
        }
      },
      "source": [
        "from sklearn.metrics import classification_report\n",
        "print(classification_report(y_test ,y_pred))"
      ],
      "execution_count": 0,
      "outputs": [
        {
          "output_type": "stream",
          "text": [
            "              precision    recall  f1-score   support\n",
            "\n",
            "           0       0.85      0.94      0.89      2661\n",
            "           1       0.87      0.73      0.80      1574\n",
            "\n",
            "    accuracy                           0.86      4235\n",
            "   macro avg       0.86      0.83      0.84      4235\n",
            "weighted avg       0.86      0.86      0.86      4235\n",
            "\n"
          ],
          "name": "stdout"
        }
      ]
    },
    {
      "cell_type": "code",
      "metadata": {
        "id": "II1GOeCQ37Q5",
        "colab_type": "code",
        "outputId": "de0405c0-5e84-48a9-99e4-b12d6105d730",
        "colab": {
          "base_uri": "https://localhost:8080/",
          "height": 54
        }
      },
      "source": [
        "from sklearn.metrics import confusion_matrix\n",
        "print(confusion_matrix(y_test, y_pred))"
      ],
      "execution_count": 0,
      "outputs": [
        {
          "output_type": "stream",
          "text": [
            "[[2492  169]\n",
            " [ 424 1150]]\n"
          ],
          "name": "stdout"
        }
      ]
    },
    {
      "cell_type": "code",
      "metadata": {
        "id": "Ud2WhTJY4XXH",
        "colab_type": "code",
        "colab": {}
      },
      "source": [
        "text = [\"We should get up early in the morning.\", \"According to Rahul Gandhi narendra modi is not a good person.\", \"Taj Mahal is situated in Agra.\",\n",
        "       \"I was born on 9th july, 1998 in Kanpur\", \"Ganga is the longest river in india.\", \"India won the cricket world cup in 2011.\", \"Rahul Gandhi said Modi is a good prime minister.\",\n",
        "       \"himalyan is situated in the north of india.\", \"Goa is a good place to be visted. It has so many beautifull beaches.\", \"She said that This project will be completed in 5 years approx.\",\n",
        "     \"This government is not doing work to control the traffic in better manner.\", \"A nuclear of atom contains proton and neutrons.\", \"India got freedom in 15th August 1947 and then nehru was the first prime minister of India.\",\n",
        "       \"The energy output of the sun is not constant\", \"Increase of population must be stoped as it is harmfull for various of things.\",\"Delhi is the capital of India\",\n",
        "       \"Sun rises in the east ans sets in the west.\", \"Ohh, How hot this summer is going on\", \"It looks ligh i will be late in reaching delhi. \",\n",
        "       \"Gandhi Jayanti is celebrated on 2nd October.\", \"Gandhi ji was born on 2nd october, 1869.\", \"Gandhi Ji did not do anything for the development of India.\",\n",
        "       \"Water flows from high level to low level.\", \"India might be able to improve its GDP if it invests substantially in major urban infrastructure.\",\n",
        "        \"you should get up early in th morning\", 'India having 3000 kilometer square area.']"
      ],
      "execution_count": 0,
      "outputs": []
    },
    {
      "cell_type": "code",
      "metadata": {
        "id": "7Ouod3JM59YJ",
        "colab_type": "code",
        "colab": {}
      },
      "source": [
        "text = ['''Traditional policies offer a wide range of covers within a single product, whereas sachet policies are designed to address specific risks. “Traditional policies are multi-purpose and broader in scope. Sachet policies have targeted coverage duration, and specific sum assured. This makes the underwriting process simpler and the premiums more affordable. Traditional policies generally provide annual, round-the-clock cover with relatively higher sum assured and, therefore, require a more comprehensive underwriting,\" said Abhishek Bondia, principal officer and managing director, SecureNow.in.\n",
        "\n",
        "The selling point of sachet policies is the low premium. Toffee Insurance, a digital insurtech startup, offers various bite-sized policies such as fitness insurance, which covers accidental injuries related to a fitness activity or sport, cyclist insurance which covers cycle theft and damage as well as accident-related death or disability, and backpack insurance which covers theft of your backpack or laptop bag. The premiums of these policies range between ₹25 and ₹449 for a time period of 180 days to a year.''']"
      ],
      "execution_count": 0,
      "outputs": []
    },
    {
      "cell_type": "code",
      "metadata": {
        "id": "lRHH8h0i9niq",
        "colab_type": "code",
        "colab": {}
      },
      "source": [
        "text = sent_tokenize(text[0])"
      ],
      "execution_count": 0,
      "outputs": []
    },
    {
      "cell_type": "code",
      "metadata": {
        "id": "maNNx66E4knx",
        "colab_type": "code",
        "colab": {}
      },
      "source": [
        "c = [clean(i, 1) for i in text]"
      ],
      "execution_count": 0,
      "outputs": []
    },
    {
      "cell_type": "code",
      "metadata": {
        "id": "G84KPpDA4tfk",
        "colab_type": "code",
        "outputId": "76f822ff-db38-47e5-ca30-0a666aa9b2c4",
        "colab": {
          "base_uri": "https://localhost:8080/",
          "height": 490
        }
      },
      "source": [
        "c"
      ],
      "execution_count": 0,
      "outputs": [
        {
          "output_type": "execute_result",
          "data": {
            "text/plain": [
              "['we should get up early in the morning ',\n",
              " 'according to rahul gandhi narendra modi is not a good person ',\n",
              " 'taj mahal is situated in agra ',\n",
              " 'i was born on th july  num in kanpur',\n",
              " 'ganga is the longest river in india ',\n",
              " 'india won the cricket world cup in num ',\n",
              " 'rahul gandhi said modi is a good prime minister ',\n",
              " 'himalyan is situated in the north of india ',\n",
              " 'goa is a good place to be visted  it has so many beautifull beaches ',\n",
              " 'she said that this project will be completed in  years approx ',\n",
              " 'this government is not doing work to control the traffic in better manner ',\n",
              " 'a nuclear of atom contains proton and neutrons ',\n",
              " 'india got freedom in numth august num and then nehru was the first prime minister of india ',\n",
              " 'the energy output of the sun is not constant',\n",
              " 'increase of population must be stoped as it is harmfull for various of things ',\n",
              " 'delhi is the capital of india',\n",
              " 'sun rises in the east ans sets in the west ',\n",
              " 'ohh  how hot this summer is going on',\n",
              " 'it looks ligh i will be late in reaching delhi ',\n",
              " 'gandhi jayanti is celebrated on nd october ',\n",
              " 'gandhi ji was born on nd october  num ',\n",
              " 'gandhi ji did not do anything for the development of india ',\n",
              " 'water flows from high level to low level ',\n",
              " 'india might be able to improve its gdp if it invests substantially in major urban infrastructure ',\n",
              " 'you should get up early in th morning',\n",
              " 'india having num kilometer square area ']"
            ]
          },
          "metadata": {
            "tags": []
          },
          "execution_count": 276
        }
      ]
    },
    {
      "cell_type": "code",
      "metadata": {
        "id": "_IWsvhz04ymw",
        "colab_type": "code",
        "colab": {}
      },
      "source": [
        "X_tokenized= tk.texts_to_sequences(pd.Series(c).fillna('UNK'))\n",
        "X = pad_sequences(X_tokenized, maxlen = 25, padding = 'post', truncating= 'post')"
      ],
      "execution_count": 0,
      "outputs": []
    },
    {
      "cell_type": "code",
      "metadata": {
        "id": "GrIbextb46c3",
        "colab_type": "code",
        "outputId": "b5c067b3-f5f2-4ee7-cd4a-855bdc9337dc",
        "colab": {
          "base_uri": "https://localhost:8080/",
          "height": 74
        }
      },
      "source": [
        "x = [embedding_matrix[[i]] for i in X]"
      ],
      "execution_count": 0,
      "outputs": [
        {
          "output_type": "stream",
          "text": [
            "/usr/local/lib/python3.6/dist-packages/ipykernel_launcher.py:1: FutureWarning: Using a non-tuple sequence for multidimensional indexing is deprecated; use `arr[tuple(seq)]` instead of `arr[seq]`. In the future this will be interpreted as an array index, `arr[np.array(seq)]`, which will result either in an error or a different result.\n",
            "  \"\"\"Entry point for launching an IPython kernel.\n"
          ],
          "name": "stderr"
        }
      ]
    },
    {
      "cell_type": "code",
      "metadata": {
        "id": "z3Mssj_45fY1",
        "colab_type": "code",
        "colab": {}
      },
      "source": [
        "x = np.array(x)"
      ],
      "execution_count": 0,
      "outputs": []
    },
    {
      "cell_type": "code",
      "metadata": {
        "id": "nGYRO98a5ipG",
        "colab_type": "code",
        "colab": {}
      },
      "source": [
        "text"
      ],
      "execution_count": 0,
      "outputs": []
    },
    {
      "cell_type": "code",
      "metadata": {
        "id": "emfaJkFt5GPO",
        "colab_type": "code",
        "outputId": "8a70b968-f612-4d12-b0b9-84b57fcbbe4c",
        "colab": {
          "base_uri": "https://localhost:8080/",
          "height": 854
        }
      },
      "source": [
        "y_pred = model.predict(x)\n",
        "v = [(i, j) for i, j in zip(text, y_pred)]\n",
        "v"
      ],
      "execution_count": 0,
      "outputs": [
        {
          "output_type": "execute_result",
          "data": {
            "text/plain": [
              "[('We should get up early in the morning.', array([0.4246287], dtype=float32)),\n",
              " ('According to Rahul Gandhi narendra modi is not a good person.',\n",
              "  array([0.175217], dtype=float32)),\n",
              " ('Taj Mahal is situated in Agra.', array([0.63421607], dtype=float32)),\n",
              " ('I was born on 9th july, 1998 in Kanpur',\n",
              "  array([0.87088215], dtype=float32)),\n",
              " ('Ganga is the longest river in india.', array([0.55003923], dtype=float32)),\n",
              " ('India won the cricket world cup in 2011.',\n",
              "  array([0.8101121], dtype=float32)),\n",
              " ('Rahul Gandhi said Modi is a good prime minister.',\n",
              "  array([0.42209828], dtype=float32)),\n",
              " ('himalyan is situated in the north of india.',\n",
              "  array([0.8190203], dtype=float32)),\n",
              " ('Goa is a good place to be visted. It has so many beautifull beaches.',\n",
              "  array([0.10035551], dtype=float32)),\n",
              " ('She said that This project will be completed in 5 years approx.',\n",
              "  array([0.94266653], dtype=float32)),\n",
              " ('This government is not doing work to control the traffic in better manner.',\n",
              "  array([0.65900016], dtype=float32)),\n",
              " ('A nuclear of atom contains proton and neutrons.',\n",
              "  array([0.6804305], dtype=float32)),\n",
              " ('India got freedom in 15th August 1947 and then nehru was the first prime minister of India.',\n",
              "  array([0.35427842], dtype=float32)),\n",
              " ('The energy output of the sun is not constant',\n",
              "  array([0.58524585], dtype=float32)),\n",
              " ('Increase of population must be stoped as it is harmfull for various of things.',\n",
              "  array([0.1402502], dtype=float32)),\n",
              " ('Delhi is the capital of India', array([0.41134733], dtype=float32)),\n",
              " ('Sun rises in the east ans sets in the west.',\n",
              "  array([0.88978875], dtype=float32)),\n",
              " ('Ohh, How hot this summer is going on', array([0.15448526], dtype=float32)),\n",
              " ('It looks ligh i will be late in reaching delhi. ',\n",
              "  array([0.20431319], dtype=float32)),\n",
              " ('Gandhi Jayanti is celebrated on 2nd October.',\n",
              "  array([0.52423114], dtype=float32)),\n",
              " ('Gandhi ji was born on 2nd october, 1869.',\n",
              "  array([0.5006803], dtype=float32)),\n",
              " ('Gandhi Ji did not do anything for the development of India.',\n",
              "  array([0.43850076], dtype=float32)),\n",
              " ('Water flows from high level to low level.',\n",
              "  array([0.15507117], dtype=float32)),\n",
              " ('India might be able to improve its GDP if it invests substantially in major urban infrastructure.',\n",
              "  array([0.10003874], dtype=float32)),\n",
              " ('you should get up early in th morning', array([0.17576006], dtype=float32)),\n",
              " ('India having 3000 kilometer square area.',\n",
              "  array([0.593374], dtype=float32))]"
            ]
          },
          "metadata": {
            "tags": []
          },
          "execution_count": 281
        }
      ]
    },
    {
      "cell_type": "code",
      "metadata": {
        "id": "CRrYodr25Vlw",
        "colab_type": "code",
        "colab": {}
      },
      "source": [
        ""
      ],
      "execution_count": 0,
      "outputs": []
    }
  ]
}