{
  "nbformat": 4,
  "nbformat_minor": 0,
  "metadata": {
    "colab": {
      "name": "FactVsOp_Optimization.ipynb",
      "provenance": [],
      "machine_shape": "hm"
    },
    "kernelspec": {
      "name": "python3",
      "display_name": "Python 3"
    }
  },
  "cells": [
    {
      "cell_type": "code",
      "metadata": {
        "id": "Q83a1xdDAmCA",
        "colab_type": "code",
        "outputId": "7fcb5f46-fecc-4a75-f476-d0078705d0bb",
        "colab": {
          "base_uri": "https://localhost:8080/",
          "height": 122
        }
      },
      "source": [
        "from google.colab import drive\n",
        "drive.mount('/content/drive')"
      ],
      "execution_count": 0,
      "outputs": [
        {
          "output_type": "stream",
          "text": [
            "Go to this URL in a browser: https://accounts.google.com/o/oauth2/auth?client_id=947318989803-6bn6qk8qdgf4n4g3pfee6491hc0brc4i.apps.googleusercontent.com&redirect_uri=urn%3Aietf%3Awg%3Aoauth%3A2.0%3Aoob&scope=email%20https%3A%2F%2Fwww.googleapis.com%2Fauth%2Fdocs.test%20https%3A%2F%2Fwww.googleapis.com%2Fauth%2Fdrive%20https%3A%2F%2Fwww.googleapis.com%2Fauth%2Fdrive.photos.readonly%20https%3A%2F%2Fwww.googleapis.com%2Fauth%2Fpeopleapi.readonly&response_type=code\n",
            "\n",
            "Enter your authorization code:\n",
            "··········\n",
            "Mounted at /content/drive\n"
          ],
          "name": "stdout"
        }
      ]
    },
    {
      "cell_type": "code",
      "metadata": {
        "id": "-iBqDwTeAu3Y",
        "colab_type": "code",
        "outputId": "1f8c3140-fe11-4bd6-f026-ce5e8777e551",
        "colab": {
          "base_uri": "https://localhost:8080/",
          "height": 51
        }
      },
      "source": [
        "import pandas as pd\n",
        "import nltk\n",
        "nltk.download('stopwords')\n",
        "from nltk.corpus import stopwords\n",
        "stop_words = set(stopwords.words('english')) \n",
        "from nltk.tokenize import word_tokenize \n",
        "from nltk.tokenize import sent_tokenize\n",
        "import re\n",
        "from gensim.models import doc2vec\n",
        "from gensim.models.doc2vec import Doc2Vec, TaggedDocument\n",
        "from gensim.models import Word2Vec\n",
        "import numpy as np"
      ],
      "execution_count": 0,
      "outputs": [
        {
          "output_type": "stream",
          "text": [
            "[nltk_data] Downloading package stopwords to /root/nltk_data...\n",
            "[nltk_data]   Unzipping corpora/stopwords.zip.\n"
          ],
          "name": "stdout"
        }
      ]
    },
    {
      "cell_type": "code",
      "metadata": {
        "id": "IymuTI3eA9mr",
        "colab_type": "code",
        "colab": {}
      },
      "source": [
        "import keras\n",
        "from keras.models import Model\n",
        "from keras.layers import LSTM, Activation, Dense, Dropout, Input, Embedding\n",
        "from keras.optimizers import RMSprop\n",
        "from keras.preprocessing.text import Tokenizer\n",
        "from keras.preprocessing import sequence\n",
        "from keras.utils import to_categorical\n",
        "from keras.callbacks import EarlyStopping\n",
        "from keras.layers import LSTM, Dense, Bidirectional, Input, Dropout, Flatten, Embedding, BatchNormalization"
      ],
      "execution_count": 0,
      "outputs": []
    },
    {
      "cell_type": "code",
      "metadata": {
        "id": "mYqnFpw9BFXD",
        "colab_type": "code",
        "colab": {}
      },
      "source": [
        "df = pd.read_csv('/content/drive/My Drive/Data/fact vs opinion/50k_fo_dataset.csv')"
      ],
      "execution_count": 0,
      "outputs": []
    },
    {
      "cell_type": "code",
      "metadata": {
        "id": "PG69-aR2BHnh",
        "colab_type": "code",
        "outputId": "55c4f19d-30b1-4749-b9d5-7a25f0e2c66e",
        "colab": {
          "base_uri": "https://localhost:8080/",
          "height": 479
        }
      },
      "source": [
        "df.head()"
      ],
      "execution_count": 0,
      "outputs": [
        {
          "output_type": "execute_result",
          "data": {
            "text/html": [
              "<div>\n",
              "<style scoped>\n",
              "    .dataframe tbody tr th:only-of-type {\n",
              "        vertical-align: middle;\n",
              "    }\n",
              "\n",
              "    .dataframe tbody tr th {\n",
              "        vertical-align: top;\n",
              "    }\n",
              "\n",
              "    .dataframe thead th {\n",
              "        text-align: right;\n",
              "    }\n",
              "</style>\n",
              "<table border=\"1\" class=\"dataframe\">\n",
              "  <thead>\n",
              "    <tr style=\"text-align: right;\">\n",
              "      <th></th>\n",
              "      <th>Unnamed: 0</th>\n",
              "      <th>0</th>\n",
              "      <th>1</th>\n",
              "      <th>2</th>\n",
              "      <th>cleaned_corpus</th>\n",
              "      <th>cleaned_corpus_withstops</th>\n",
              "      <th>cleaned_corpus_withstops_withquotes</th>\n",
              "      <th>special_corpus</th>\n",
              "      <th>special_cleaned_corpus2</th>\n",
              "      <th>special_cleaned_corpus5</th>\n",
              "    </tr>\n",
              "  </thead>\n",
              "  <tbody>\n",
              "    <tr>\n",
              "      <th>0</th>\n",
              "      <td>0</td>\n",
              "      <td>In light of some much pain and sorrow from the...</td>\n",
              "      <td>Opinion</td>\n",
              "      <td>Suspecto</td>\n",
              "      <td>In light much pain sorrow country dear communi...</td>\n",
              "      <td>In light of some much pain and sorrow from the...</td>\n",
              "      <td>In light of some much pain and sorrow from the...</td>\n",
              "      <td>In light of some much pain and sorrow from the...</td>\n",
              "      <td>In light of some much pain and sorrow from the...</td>\n",
              "      <td>In light of some much pain and sorrow from the...</td>\n",
              "    </tr>\n",
              "    <tr>\n",
              "      <th>1</th>\n",
              "      <td>1</td>\n",
              "      <td>From Conservapedia\\n\\nSalzburg is the capital ...</td>\n",
              "      <td>Opinion</td>\n",
              "      <td>Suspecto</td>\n",
              "      <td>From Conservapedia Salzburg capital biggest ci...</td>\n",
              "      <td>From Conservapedia\\n\\nSalzburg is the capital ...</td>\n",
              "      <td>From Conservapedia\\n\\nSalzburg is the capital ...</td>\n",
              "      <td>From Conservapedia\\n\\nSalzburg is the capital ...</td>\n",
              "      <td>From Conservapedia\\n\\nSalzburg is the capital ...</td>\n",
              "      <td>From Conservapedia\\n\\nSalzburg is the capital ...</td>\n",
              "    </tr>\n",
              "    <tr>\n",
              "      <th>2</th>\n",
              "      <td>2</td>\n",
              "      <td>Residents thronged the wide boulevards of Nort...</td>\n",
              "      <td>Factual</td>\n",
              "      <td>newsen</td>\n",
              "      <td>Residents thronged wide boulevards North Korea...</td>\n",
              "      <td>Residents thronged the wide boulevards of Nort...</td>\n",
              "      <td>Residents thronged the wide boulevards of Nort...</td>\n",
              "      <td>Residents thronged the wide boulevards of Nort...</td>\n",
              "      <td>0 0 0 0 0 However journalists’ movements are c...</td>\n",
              "      <td>0 0 0 0 0 However journalists’ movements are c...</td>\n",
              "    </tr>\n",
              "    <tr>\n",
              "      <th>3</th>\n",
              "      <td>3</td>\n",
              "      <td>Spain’s industry minister, Jose Manuel Soria, ...</td>\n",
              "      <td>Factual</td>\n",
              "      <td>newsen</td>\n",
              "      <td>Spains industry minister Jose Manuel Soria Mon...</td>\n",
              "      <td>Spains industry minister Jose Manuel Soria on ...</td>\n",
              "      <td>Spain’s industry minister Jose Manuel Soria on...</td>\n",
              "      <td>Spain’s industry minister Jose Manuel Soria on...</td>\n",
              "      <td>0 0 0 0 0 0 0 0 They have all denied wrongdoing</td>\n",
              "      <td>0 0 0 0 0 0 0 0 They have all denied wrongdoing</td>\n",
              "    </tr>\n",
              "    <tr>\n",
              "      <th>4</th>\n",
              "      <td>4</td>\n",
              "      <td>Embattled Daily Show successor Trevor Noah‘s s...</td>\n",
              "      <td>Opinion</td>\n",
              "      <td>Suspecto</td>\n",
              "      <td>Embattled Daily Show successor Trevor Noah ‘ s...</td>\n",
              "      <td>Embattled Daily Show successor Trevor Noah‘s s...</td>\n",
              "      <td>Embattled Daily Show successor Trevor Noah‘s s...</td>\n",
              "      <td>Embattled Daily Show successor Trevor Noah‘s s...</td>\n",
              "      <td>Embattled Daily Show successor Trevor Noah‘s s...</td>\n",
              "      <td>Embattled Daily Show successor Trevor Noah‘s s...</td>\n",
              "    </tr>\n",
              "  </tbody>\n",
              "</table>\n",
              "</div>"
            ],
            "text/plain": [
              "   Unnamed: 0  ...                            special_cleaned_corpus5\n",
              "0           0  ...  In light of some much pain and sorrow from the...\n",
              "1           1  ...  From Conservapedia\\n\\nSalzburg is the capital ...\n",
              "2           2  ...  0 0 0 0 0 However journalists’ movements are c...\n",
              "3           3  ...    0 0 0 0 0 0 0 0 They have all denied wrongdoing\n",
              "4           4  ...  Embattled Daily Show successor Trevor Noah‘s s...\n",
              "\n",
              "[5 rows x 10 columns]"
            ]
          },
          "metadata": {
            "tags": []
          },
          "execution_count": 5
        }
      ]
    },
    {
      "cell_type": "code",
      "metadata": {
        "id": "9KpIFTBhDfYj",
        "colab_type": "code",
        "colab": {}
      },
      "source": [
        "def clean_text_adv(text):\n",
        "    text = re.sub('\\d+\\d+', 'NUM', text)\n",
        "    words = word_tokenize(text)\n",
        "    clean_words = [re.sub(r'[^A-Za-z]', '', word) for word in words]\n",
        "    cleaned = ' '.join(clean_words)\n",
        "    text = cleaned.lower()\n",
        "    return text\n",
        "\n",
        "def clean(text, idx):\n",
        "    try:\n",
        "        sents = sent_tokenize(text)\n",
        "        sents1 = [clean_text_adv(i) for i in sents]\n",
        "        joined = ' '.join(sents1)\n",
        "        \n",
        "        print(idx)\n",
        "    \n",
        "        return joined\n",
        "    except:\n",
        "        sents = text\n",
        "        print('Ohh exception here')\n",
        "        sents = clean_text_adv(text)\n",
        "        b = ' '\n",
        "        #joined = b.join(sents)\n",
        "        print(text)\n",
        "        return sents"
      ],
      "execution_count": 0,
      "outputs": []
    },
    {
      "cell_type": "code",
      "metadata": {
        "id": "kXlBnYgjEXS4",
        "colab_type": "code",
        "outputId": "e384e08a-98d4-4be4-c6bb-6f3cdcc6c235",
        "colab": {
          "base_uri": "https://localhost:8080/",
          "height": 72
        }
      },
      "source": [
        "nltk.download('punkt')"
      ],
      "execution_count": 0,
      "outputs": [
        {
          "output_type": "stream",
          "text": [
            "[nltk_data] Downloading package punkt to /root/nltk_data...\n",
            "[nltk_data]   Unzipping tokenizers/punkt.zip.\n"
          ],
          "name": "stdout"
        },
        {
          "output_type": "execute_result",
          "data": {
            "text/plain": [
              "True"
            ]
          },
          "metadata": {
            "tags": []
          },
          "execution_count": 21
        }
      ]
    },
    {
      "cell_type": "code",
      "metadata": {
        "id": "dQvxZJCxDsFJ",
        "colab_type": "code",
        "colab": {}
      },
      "source": [
        "corpus = list(df['0'].fillna('0'))\n",
        "y = [1 if i=='Factual' else 0 for i in list(df['1'])]"
      ],
      "execution_count": 0,
      "outputs": []
    },
    {
      "cell_type": "code",
      "metadata": {
        "id": "PQ-IIOcpEbY9",
        "colab_type": "code",
        "colab": {}
      },
      "source": [
        "corpus[:100]"
      ],
      "execution_count": 0,
      "outputs": []
    },
    {
      "cell_type": "code",
      "metadata": {
        "id": "dAtX5DSWIQgq",
        "colab_type": "code",
        "outputId": "6e9875e9-2637-4911-a3e5-221497610210",
        "colab": {
          "base_uri": "https://localhost:8080/",
          "height": 74
        }
      },
      "source": [
        "sample2 = [(a, b) for a,b in zip(corpus, y)]\n",
        "sample2[0]"
      ],
      "execution_count": 0,
      "outputs": [
        {
          "output_type": "execute_result",
          "data": {
            "text/plain": [
              "('In light of some much pain and sorrow from the country to our dear community. I decided to create this open thread dedicated to gchaucer2 because she was one of my biggest fans and I hers. We connected through this primary and I know we will be celebrating and goofing around in Novemebr.\\n\\nBuy her book here\\n\\nAs a gay man , I also will not give in to terror and continue fighting for what I find is the correct path and the right choices to be made in the political arena and beyond.\\n\\nPolls close in DC at 830EST\\n\\nFor Orlando\\n\\nx YouTube Video\\n\\nFor GC\\n\\nx YouTube Video\\n\\nx This is one nation under God, indivisible, with liberty and justice for all. Not just for those who look or love or worship one wayÃ¢Â\\x80Â\\x94for all. Ã¢Â\\x80Â\\x94 Hillary Clinton (@HillaryClinton) June 14, 2016',\n",
              " 0)"
            ]
          },
          "metadata": {
            "tags": []
          },
          "execution_count": 53
        }
      ]
    },
    {
      "cell_type": "code",
      "metadata": {
        "id": "zGfsKIBEGojh",
        "colab_type": "code",
        "colab": {}
      },
      "source": [
        "sample2[:5]"
      ],
      "execution_count": 0,
      "outputs": []
    },
    {
      "cell_type": "code",
      "metadata": {
        "id": "RzBksLzTBV3c",
        "colab_type": "code",
        "colab": {}
      },
      "source": [
        "y = [1 if i=='Factual' else 0 for i in list(df['1'])]"
      ],
      "execution_count": 0,
      "outputs": []
    },
    {
      "cell_type": "code",
      "metadata": {
        "id": "GJAIB7q5G_Qg",
        "colab_type": "code",
        "outputId": "e158079c-8d8e-435d-84a9-c63e11fd665c",
        "colab": {
          "base_uri": "https://localhost:8080/",
          "height": 90
        }
      },
      "source": [
        "nltk.download('averaged_perceptron_tagger')"
      ],
      "execution_count": 0,
      "outputs": [
        {
          "output_type": "stream",
          "text": [
            "[nltk_data] Downloading package averaged_perceptron_tagger to\n",
            "[nltk_data]     /root/nltk_data...\n",
            "[nltk_data]   Unzipping taggers/averaged_perceptron_tagger.zip.\n"
          ],
          "name": "stdout"
        },
        {
          "output_type": "execute_result",
          "data": {
            "text/plain": [
              "True"
            ]
          },
          "metadata": {
            "tags": []
          },
          "execution_count": 28
        }
      ]
    },
    {
      "cell_type": "code",
      "metadata": {
        "id": "GNdSaoUYI2rg",
        "colab_type": "code",
        "outputId": "5be1ad12-fe37-4ad1-f769-8062b88fedf1",
        "colab": {
          "base_uri": "https://localhost:8080/",
          "height": 35
        }
      },
      "source": [
        "sample = sample2\n",
        "print(len(sample))"
      ],
      "execution_count": 0,
      "outputs": [
        {
          "output_type": "stream",
          "text": [
            "50000\n"
          ],
          "name": "stdout"
        }
      ]
    },
    {
      "cell_type": "code",
      "metadata": {
        "id": "PdYlWe1CFRuf",
        "colab_type": "code",
        "colab": {}
      },
      "source": [
        "def filterr1(sent):\n",
        "    a = word_tokenize(sent)\n",
        "    b = nltk.pos_tag(a)\n",
        "    c = [i for i in b if i[1] in ['JJ', 'MD']]\n",
        "    for i in a:\n",
        "        if i in ['said','told','according','telling','saying','wrote','proposed']:\n",
        "            return \"0\"\n",
        "    if len(c)!=0:\n",
        "        return sent\n",
        "    else:\n",
        "        return \"0\"\n",
        "    \n",
        "def filterr2(sent):\n",
        "    a = word_tokenize(sent)\n",
        "    b = nltk.pos_tag(a)\n",
        "    for i in b:\n",
        "        if i[1] in ['JJ', 'MD']:\n",
        "            return \"0\"   \n",
        "    return sent\n",
        "    \n",
        "def operations1(texts, idx):\n",
        "    print(idx)\n",
        "    filter_sample = sent_tokenize(texts) \n",
        "    filter_sample2 = [filterr1(i) for i in filter_sample]\n",
        "    while(\"0\" in filter_sample2):\n",
        "        filter_sample2.remove(\"0\")\n",
        "    if len(filter_sample2)!=0:\n",
        "        filter_sample4 = \" \".join(filter_sample2)\n",
        "        return filter_sample4\n",
        "    \n",
        "def operations2(texts, idx):\n",
        "    print(idx)\n",
        "    filter_sample = sent_tokenize(texts) \n",
        "    filter_sample2 = [filterr2(i) for i in filter_sample]\n",
        "    while(\"0\" in filter_sample2):\n",
        "        filter_sample2.remove(\"0\")\n",
        "    #if \"0\" in filter_sample2:\n",
        "     #   filter_sample2.remove(\"0\")\n",
        "    if len(filter_sample2)!=0:\n",
        "        filter_sample4 = \" \".join(filter_sample2)\n",
        "        return filter_sample4\n",
        "#    return filter_sample2\n",
        "\n",
        "    \n",
        "updated_samples = [operations1(i[0], idx) if i[1]==0 else operations2(i[0], idx) for idx, i in enumerate(sample)]"
      ],
      "execution_count": 0,
      "outputs": []
    },
    {
      "cell_type": "code",
      "metadata": {
        "id": "8d74IW0_azBR",
        "colab_type": "code",
        "colab": {}
      },
      "source": [
        "updated_samples[:20]"
      ],
      "execution_count": 0,
      "outputs": []
    },
    {
      "cell_type": "code",
      "metadata": {
        "id": "5jUBTKMXLLjx",
        "colab_type": "code",
        "colab": {}
      },
      "source": [
        "new_grps = [(i, j) for i,j in zip(updated_samples, y)]"
      ],
      "execution_count": 0,
      "outputs": []
    },
    {
      "cell_type": "code",
      "metadata": {
        "id": "P-BS3ZkfcaSo",
        "colab_type": "code",
        "colab": {}
      },
      "source": [
        "df.to_csv('/content/drive/My Drive/Data/fact vs opinion/FACTVSOP_DATASET.csv', index = False)"
      ],
      "execution_count": 0,
      "outputs": []
    },
    {
      "cell_type": "markdown",
      "metadata": {
        "id": "EruwJjoBbQ6V",
        "colab_type": "text"
      },
      "source": [
        "# Loading Data and Trainning\n"
      ]
    },
    {
      "cell_type": "code",
      "metadata": {
        "id": "s5uFTRcdYAiT",
        "colab_type": "code",
        "outputId": "61242a19-dc95-4551-c484-c994650b4065",
        "colab": {
          "base_uri": "https://localhost:8080/",
          "height": 359
        }
      },
      "source": [
        "df = pd.read_csv('/content/drive/My Drive/Data/fact vs opinion/sent_level/FACTVSOP_DATASET.csv')\n",
        "df.head(10)"
      ],
      "execution_count": 0,
      "outputs": [
        {
          "output_type": "execute_result",
          "data": {
            "text/html": [
              "<div>\n",
              "<style scoped>\n",
              "    .dataframe tbody tr th:only-of-type {\n",
              "        vertical-align: middle;\n",
              "    }\n",
              "\n",
              "    .dataframe tbody tr th {\n",
              "        vertical-align: top;\n",
              "    }\n",
              "\n",
              "    .dataframe thead th {\n",
              "        text-align: right;\n",
              "    }\n",
              "</style>\n",
              "<table border=\"1\" class=\"dataframe\">\n",
              "  <thead>\n",
              "    <tr style=\"text-align: right;\">\n",
              "      <th></th>\n",
              "      <th>0</th>\n",
              "      <th>1</th>\n",
              "      <th>cleaned_corpus</th>\n",
              "    </tr>\n",
              "  </thead>\n",
              "  <tbody>\n",
              "    <tr>\n",
              "      <th>0</th>\n",
              "      <td>In light of some much pain and sorrow from the...</td>\n",
              "      <td>0</td>\n",
              "      <td>in light of some much pain and sorrow from the...</td>\n",
              "    </tr>\n",
              "    <tr>\n",
              "      <th>1</th>\n",
              "      <td>From Conservapedia\\n\\nSalzburg is the capital ...</td>\n",
              "      <td>0</td>\n",
              "      <td>from conservapedia salzburg is the capital and...</td>\n",
              "    </tr>\n",
              "    <tr>\n",
              "      <th>2</th>\n",
              "      <td>However, journalists’ movements are closely ma...</td>\n",
              "      <td>1</td>\n",
              "      <td>however  journalists  movements are closely ma...</td>\n",
              "    </tr>\n",
              "    <tr>\n",
              "      <th>3</th>\n",
              "      <td>They have all denied wrongdoing.</td>\n",
              "      <td>1</td>\n",
              "      <td>they have all denied wrongdoing</td>\n",
              "    </tr>\n",
              "    <tr>\n",
              "      <th>4</th>\n",
              "      <td>Embattled Daily Show successor Trevor Noah‘s s...</td>\n",
              "      <td>0</td>\n",
              "      <td>embattled daily show successor trevor noah  s ...</td>\n",
              "    </tr>\n",
              "    <tr>\n",
              "      <th>5</th>\n",
              "      <td>ROCK STAR TREATMENT Musk’s celebrity status pr...</td>\n",
              "      <td>1</td>\n",
              "      <td>rock star treatment musk  s celebrity status p...</td>\n",
              "    </tr>\n",
              "    <tr>\n",
              "      <th>6</th>\n",
              "      <td>Larry Hunter claims he is a “lifelong conserva...</td>\n",
              "      <td>0</td>\n",
              "      <td>larry hunter claims he is a  lifelong conserva...</td>\n",
              "    </tr>\n",
              "    <tr>\n",
              "      <th>7</th>\n",
              "      <td>Cyclone Maarutha made landfall on Myanmar's Ra...</td>\n",
              "      <td>1</td>\n",
              "      <td>cyclone maarutha made landfall on myanmar s ra...</td>\n",
              "    </tr>\n",
              "    <tr>\n",
              "      <th>8</th>\n",
              "      <td>It is a bit rich for P. Chidambaram to suggest...</td>\n",
              "      <td>0</td>\n",
              "      <td>it is a bit rich for p chidambaram to suggest ...</td>\n",
              "    </tr>\n",
              "    <tr>\n",
              "      <th>9</th>\n",
              "      <td>Perpetrators in two of the highest-profile ISI...</td>\n",
              "      <td>0</td>\n",
              "      <td>perpetrators in two of the highestprofile isis...</td>\n",
              "    </tr>\n",
              "  </tbody>\n",
              "</table>\n",
              "</div>"
            ],
            "text/plain": [
              "                                                   0  ...                                     cleaned_corpus\n",
              "0  In light of some much pain and sorrow from the...  ...  in light of some much pain and sorrow from the...\n",
              "1  From Conservapedia\\n\\nSalzburg is the capital ...  ...  from conservapedia salzburg is the capital and...\n",
              "2  However, journalists’ movements are closely ma...  ...  however  journalists  movements are closely ma...\n",
              "3                   They have all denied wrongdoing.  ...                   they have all denied wrongdoing \n",
              "4  Embattled Daily Show successor Trevor Noah‘s s...  ...  embattled daily show successor trevor noah  s ...\n",
              "5  ROCK STAR TREATMENT Musk’s celebrity status pr...  ...  rock star treatment musk  s celebrity status p...\n",
              "6  Larry Hunter claims he is a “lifelong conserva...  ...  larry hunter claims he is a  lifelong conserva...\n",
              "7  Cyclone Maarutha made landfall on Myanmar's Ra...  ...  cyclone maarutha made landfall on myanmar s ra...\n",
              "8  It is a bit rich for P. Chidambaram to suggest...  ...  it is a bit rich for p chidambaram to suggest ...\n",
              "9  Perpetrators in two of the highest-profile ISI...  ...  perpetrators in two of the highestprofile isis...\n",
              "\n",
              "[10 rows x 3 columns]"
            ]
          },
          "metadata": {
            "tags": []
          },
          "execution_count": 6
        }
      ]
    },
    {
      "cell_type": "code",
      "metadata": {
        "id": "jpQ3yw37aVmA",
        "colab_type": "code",
        "colab": {}
      },
      "source": [
        "texts = list(df['0'])\n",
        "y = list(df['1'])"
      ],
      "execution_count": 0,
      "outputs": []
    },
    {
      "cell_type": "code",
      "metadata": {
        "id": "-eMgc2_3ibqo",
        "colab_type": "code",
        "outputId": "582ce54e-bc1f-464a-ccc4-a6343cbaeafb",
        "colab": {
          "base_uri": "https://localhost:8080/",
          "height": 34
        }
      },
      "source": [
        "len(texts)"
      ],
      "execution_count": 0,
      "outputs": [
        {
          "output_type": "execute_result",
          "data": {
            "text/plain": [
              "28230"
            ]
          },
          "metadata": {
            "tags": []
          },
          "execution_count": 8
        }
      ]
    },
    {
      "cell_type": "code",
      "metadata": {
        "id": "KuBuEaAg6juZ",
        "colab_type": "code",
        "colab": {}
      },
      "source": [
        "b = word_tokenize('my name is ashutosh')\n",
        "len(b)"
      ],
      "execution_count": 0,
      "outputs": []
    },
    {
      "cell_type": "code",
      "metadata": {
        "id": "O4d5tTM_6Zmy",
        "colab_type": "code",
        "colab": {}
      },
      "source": [
        "len(word_tokenize(texts[200]))"
      ],
      "execution_count": 0,
      "outputs": []
    },
    {
      "cell_type": "code",
      "metadata": {
        "id": "VDJDpSL7YivX",
        "colab_type": "code",
        "outputId": "d7882408-1b49-4428-9908-b7ef0e4c3083",
        "colab": {
          "base_uri": "https://localhost:8080/",
          "height": 72
        }
      },
      "source": [
        "nltk.download('punkt')"
      ],
      "execution_count": 0,
      "outputs": [
        {
          "output_type": "stream",
          "text": [
            "[nltk_data] Downloading package punkt to /root/nltk_data...\n",
            "[nltk_data]   Package punkt is already up-to-date!\n"
          ],
          "name": "stdout"
        },
        {
          "output_type": "execute_result",
          "data": {
            "text/plain": [
              "True"
            ]
          },
          "metadata": {
            "tags": []
          },
          "execution_count": 255
        }
      ]
    },
    {
      "cell_type": "code",
      "metadata": {
        "id": "MaepwZyUCJf2",
        "colab_type": "code",
        "colab": {}
      },
      "source": [
        "cleaned_corpus = [clean(i, idx) for idx, i in enumerate(texts)]\n",
        "cleaned_corpus"
      ],
      "execution_count": 0,
      "outputs": []
    },
    {
      "cell_type": "code",
      "metadata": {
        "id": "FBI-Wgt2CMqh",
        "colab_type": "code",
        "colab": {}
      },
      "source": [
        "texts = cleaned_corpus\n",
        "#df['cleaned_corpus'] = cleaned_corpus"
      ],
      "execution_count": 0,
      "outputs": []
    },
    {
      "cell_type": "code",
      "metadata": {
        "id": "ZvUWzt2lcXcJ",
        "colab_type": "code",
        "colab": {}
      },
      "source": [
        "max_len = 25\n",
        "from keras.preprocessing.text import Tokenizer\n",
        "from keras.preprocessing.sequence import pad_sequences\n",
        "\n",
        "tk = Tokenizer()\n",
        "tokenizer = tk.fit_on_texts(pd.Series(texts))\n",
        "X_tokenized= tk.texts_to_sequences(pd.Series(texts).fillna('UNK'))\n",
        "X = pad_sequences(X_tokenized, maxlen = max_len, padding = 'post', truncating= 'post')"
      ],
      "execution_count": 0,
      "outputs": []
    },
    {
      "cell_type": "code",
      "metadata": {
        "id": "-CjAPGhu78NL",
        "colab_type": "code",
        "colab": {}
      },
      "source": [
        "with open('/content/drive/My Drive/Data/fact vs opinion/TOKENIZER_NEW.h5', 'wb') as handle:\n",
        "    pickle.dump(tk, handle, protocol=pickle.HIGHEST_PROTOCOL)"
      ],
      "execution_count": 0,
      "outputs": []
    },
    {
      "cell_type": "code",
      "metadata": {
        "id": "jOgKz332cv99",
        "colab_type": "code",
        "colab": {}
      },
      "source": [
        "import pickle\n",
        "glove = pickle.load(open('/content/drive/My Drive/Glove Emb/news_glove/glove.42B.300d.pkl','rb')) "
      ],
      "execution_count": 0,
      "outputs": []
    },
    {
      "cell_type": "code",
      "metadata": {
        "id": "IqJNaceD70xG",
        "colab_type": "code",
        "colab": {}
      },
      "source": [
        "a = [(i, j) for i, j in zip(cleaned_corpus, y)]\n",
        "a[:30]"
      ],
      "execution_count": 0,
      "outputs": []
    },
    {
      "cell_type": "code",
      "metadata": {
        "id": "JLdgAmy_dA1w",
        "colab_type": "code",
        "outputId": "9fd0ecb6-be29-4fac-bbe5-92193757ea1f",
        "colab": {
          "base_uri": "https://localhost:8080/",
          "height": 35
        }
      },
      "source": [
        "import numpy as np\n",
        "EMBEDDING_DIM = 300\n",
        "word_index = tk.word_index\n",
        "nb_words = len(word_index) + 1\n",
        "embedding_matrix = np.zeros((nb_words, EMBEDDING_DIM))\n",
        "for word, i in word_index.items():\n",
        "    if word in glove: \n",
        "        embedding_matrix[i] = glove[word]\n",
        "    elif word.lower() in glove:\n",
        "        embedding_matrix[i] = glove[word.lower()]\n",
        "\n",
        "print('Null word embeddings: %d' % np.sum(np.sum(embedding_matrix, axis=1) == 0))"
      ],
      "execution_count": 0,
      "outputs": [
        {
          "output_type": "stream",
          "text": [
            "Null word embeddings: 36531\n"
          ],
          "name": "stdout"
        }
      ]
    },
    {
      "cell_type": "code",
      "metadata": {
        "id": "l08WukYVdeoO",
        "colab_type": "code",
        "outputId": "009722b3-0104-4a24-917d-1b0496a3d719",
        "colab": {
          "base_uri": "https://localhost:8080/",
          "height": 35
        }
      },
      "source": [
        "nb_words"
      ],
      "execution_count": 0,
      "outputs": [
        {
          "output_type": "execute_result",
          "data": {
            "text/plain": [
              "122886"
            ]
          },
          "metadata": {
            "tags": []
          },
          "execution_count": 260
        }
      ]
    },
    {
      "cell_type": "code",
      "metadata": {
        "id": "yqs1XtTYdiN2",
        "colab_type": "code",
        "colab": {}
      },
      "source": [
        "z = []\n",
        "for i in range(embedding_matrix.shape[0]):\n",
        "    if np.sum(embedding_matrix[i]) == 0:\n",
        "        z.append(i)"
      ],
      "execution_count": 0,
      "outputs": []
    },
    {
      "cell_type": "code",
      "metadata": {
        "id": "muBjinc0drNH",
        "colab_type": "code",
        "colab": {}
      },
      "source": [
        "listt = []\n",
        "for idx, (word, i) in enumerate(word_index.items()):\n",
        "    if i in z:\n",
        "        listt.append(word)\n",
        "    if idx==5000:\n",
        "        break"
      ],
      "execution_count": 0,
      "outputs": []
    },
    {
      "cell_type": "code",
      "metadata": {
        "id": "qZ3dlLsmdsYb",
        "colab_type": "code",
        "outputId": "80a1aa8d-cce9-4e62-8ba6-29d179d5e453",
        "colab": {
          "base_uri": "https://localhost:8080/",
          "height": 35
        }
      },
      "source": [
        "embedding_matrix.shape"
      ],
      "execution_count": 0,
      "outputs": [
        {
          "output_type": "execute_result",
          "data": {
            "text/plain": [
              "(122886, 300)"
            ]
          },
          "metadata": {
            "tags": []
          },
          "execution_count": 36
        }
      ]
    },
    {
      "cell_type": "code",
      "metadata": {
        "id": "2eG_1PS9dt3I",
        "colab_type": "code",
        "outputId": "795c34f1-f022-4fd6-96d2-ef14f2b2cbbe",
        "colab": {
          "base_uri": "https://localhost:8080/",
          "height": 74
        }
      },
      "source": [
        "train = np.zeros((X.shape[0], max_len, EMBEDDING_DIM))\n",
        "for i in range(X.shape[0]):\n",
        "    train[i] = embedding_matrix[[X[i]]]"
      ],
      "execution_count": 0,
      "outputs": [
        {
          "output_type": "stream",
          "text": [
            "/usr/local/lib/python3.6/dist-packages/ipykernel_launcher.py:3: FutureWarning: Using a non-tuple sequence for multidimensional indexing is deprecated; use `arr[tuple(seq)]` instead of `arr[seq]`. In the future this will be interpreted as an array index, `arr[np.array(seq)]`, which will result either in an error or a different result.\n",
            "  This is separate from the ipykernel package so we can avoid doing imports until\n"
          ],
          "name": "stderr"
        }
      ]
    },
    {
      "cell_type": "code",
      "metadata": {
        "id": "1oyDgAKweNqz",
        "colab_type": "code",
        "outputId": "7f7c2324-f506-4e36-825c-7fb79a5a2b35",
        "colab": {
          "base_uri": "https://localhost:8080/",
          "height": 35
        }
      },
      "source": [
        "train.shape"
      ],
      "execution_count": 0,
      "outputs": [
        {
          "output_type": "execute_result",
          "data": {
            "text/plain": [
              "(28230, 25, 300)"
            ]
          },
          "metadata": {
            "tags": []
          },
          "execution_count": 267
        }
      ]
    },
    {
      "cell_type": "code",
      "metadata": {
        "id": "TPRVDW2o_ATv",
        "colab_type": "code",
        "colab": {}
      },
      "source": [
        ""
      ],
      "execution_count": 0,
      "outputs": []
    },
    {
      "cell_type": "code",
      "metadata": {
        "id": "fUIWG8moeLEm",
        "colab_type": "code",
        "colab": {}
      },
      "source": [
        "keras.backend.clear_session()\n",
        "def lstm_model():\n",
        "    \"\"\"\n",
        "    Model definiton for CPU\n",
        "    :param nb_words: int-Number of words in embedding layer\n",
        "    :return: Model\n",
        "    \"\"\"\n",
        "    \n",
        "    inp = Input(shape=(max_len, 300))\n",
        "    x = LSTM(15, return_sequences=True)(inp)\n",
        "\n",
        "    x = Flatten()(x)\n",
        "    x = Dense(10, activation=\"relu\")(x)\n",
        "    #x = BatchNormalization()(x)\n",
        "    #x = Dropout(0.22)(x)\n",
        "    x = Dense(5, activation=\"relu\")(x)\n",
        "    x = Dense(1, activation=\"sigmoid\")(x)\n",
        "    model = Model(inputs=inp, outputs=x)\n",
        "    model.compile(loss='binary_crossentropy', optimizer='adam', metrics=['accuracy'])\n",
        "    return model\n",
        "model = lstm_model()"
      ],
      "execution_count": 0,
      "outputs": []
    },
    {
      "cell_type": "code",
      "metadata": {
        "id": "-MvDimLKhEgK",
        "colab_type": "code",
        "colab": {}
      },
      "source": [
        "from sklearn.model_selection import train_test_split\n",
        "X_train, X_test, y_train, y_test = train_test_split(train, y, test_size=0.15, random_state=42)"
      ],
      "execution_count": 0,
      "outputs": []
    },
    {
      "cell_type": "code",
      "metadata": {
        "id": "vRCxZ_krhUp2",
        "colab_type": "code",
        "outputId": "9540d12d-df08-4fea-f285-fa2cb7328961",
        "colab": {
          "base_uri": "https://localhost:8080/",
          "height": 272
        }
      },
      "source": [
        "model = lstm_model()\n",
        "from keras.callbacks import ModelCheckpoint\n",
        "\n",
        "filepath=\"/content/drive/My Drive/Data/fact vs opinion/FACTVSOP_NEW.h5\"\n",
        "checkpoint = ModelCheckpoint(filepath, monitor='val_loss', verbose=1, save_best_only=True, mode='min')\n",
        "callbacks = [checkpoint]\n",
        "model = lstm_model()\n",
        "model.fit(X_train, y_train, batch_size=64, epochs=3, validation_data=(X_test, y_test), verbose=1, callbacks=callbacks)"
      ],
      "execution_count": 0,
      "outputs": [
        {
          "output_type": "stream",
          "text": [
            "Train on 23995 samples, validate on 4235 samples\n",
            "Epoch 1/3\n",
            "23995/23995 [==============================] - 12s 518us/step - loss: 0.6077 - acc: 0.6711 - val_loss: 0.5826 - val_acc: 0.6848\n",
            "\n",
            "Epoch 00001: val_loss improved from inf to 0.58256, saving model to /content/drive/My Drive/Data/fact vs opinion/FACTVSOP_NEW.h5\n",
            "Epoch 2/3\n",
            "23995/23995 [==============================] - 11s 474us/step - loss: 0.5599 - acc: 0.7000 - val_loss: 0.5676 - val_acc: 0.6911\n",
            "\n",
            "Epoch 00002: val_loss improved from 0.58256 to 0.56756, saving model to /content/drive/My Drive/Data/fact vs opinion/FACTVSOP_NEW.h5\n",
            "Epoch 3/3\n",
            "23995/23995 [==============================] - 11s 473us/step - loss: 0.5418 - acc: 0.7092 - val_loss: 0.5636 - val_acc: 0.6961\n",
            "\n",
            "Epoch 00003: val_loss improved from 0.56756 to 0.56361, saving model to /content/drive/My Drive/Data/fact vs opinion/FACTVSOP_NEW.h5\n"
          ],
          "name": "stdout"
        },
        {
          "output_type": "execute_result",
          "data": {
            "text/plain": [
              "<keras.callbacks.History at 0x7fb5f91d5668>"
            ]
          },
          "metadata": {
            "tags": []
          },
          "execution_count": 198
        }
      ]
    },
    {
      "cell_type": "code",
      "metadata": {
        "id": "eIn49RXjmZWH",
        "colab_type": "code",
        "colab": {}
      },
      "source": [
        "model = lstm_model()\n",
        "model.load_weights('/content/drive/My Drive/Data/fact vs opinion/sent_level/FACTVSOP_NEW.h5')"
      ],
      "execution_count": 0,
      "outputs": []
    },
    {
      "cell_type": "code",
      "metadata": {
        "id": "i98MNiOh2GuW",
        "colab_type": "code",
        "colab": {}
      },
      "source": [
        "y_pred = model.predict([X_test], batch_size=1024, verbose=2)\n",
        "y_pred = (y_pred>0.5) + 0"
      ],
      "execution_count": 0,
      "outputs": []
    },
    {
      "cell_type": "code",
      "metadata": {
        "id": "F8RAI-Kg32rO",
        "colab_type": "code",
        "outputId": "68d8ec38-7be4-4a4c-cd12-45ceca29c6c7",
        "colab": {
          "base_uri": "https://localhost:8080/",
          "height": 181
        }
      },
      "source": [
        "from sklearn.metrics import classification_report\n",
        "print(classification_report(y_test ,y_pred))"
      ],
      "execution_count": 0,
      "outputs": [
        {
          "output_type": "stream",
          "text": [
            "              precision    recall  f1-score   support\n",
            "\n",
            "           0       0.85      0.94      0.89      2661\n",
            "           1       0.87      0.73      0.80      1574\n",
            "\n",
            "    accuracy                           0.86      4235\n",
            "   macro avg       0.86      0.83      0.84      4235\n",
            "weighted avg       0.86      0.86      0.86      4235\n",
            "\n"
          ],
          "name": "stdout"
        }
      ]
    },
    {
      "cell_type": "code",
      "metadata": {
        "id": "II1GOeCQ37Q5",
        "colab_type": "code",
        "outputId": "de0405c0-5e84-48a9-99e4-b12d6105d730",
        "colab": {
          "base_uri": "https://localhost:8080/",
          "height": 54
        }
      },
      "source": [
        "from sklearn.metrics import confusion_matrix\n",
        "print(confusion_matrix(y_test, y_pred))"
      ],
      "execution_count": 0,
      "outputs": [
        {
          "output_type": "stream",
          "text": [
            "[[2492  169]\n",
            " [ 424 1150]]\n"
          ],
          "name": "stdout"
        }
      ]
    },
    {
      "cell_type": "code",
      "metadata": {
        "id": "Ud2WhTJY4XXH",
        "colab_type": "code",
        "colab": {}
      },
      "source": [
        "text = [\"We should get up early in the morning.\", \"According to Rahul Gandhi narendra modi is not a good person.\", \"Taj Mahal is situated in Agra.\",\n",
        "       \"I was born on 9th july, 1998 in Kanpur\", \"Ganga is the longest river in india.\", \"India won the cricket world cup in 2011.\", \"Rahul Gandhi said Modi is a good prime minister.\",\n",
        "       \"himalyan is situated in the north of india.\", \"Goa is a good place to be visted. It has so many beautifull beaches.\", \"She said that This project will be completed in 5 years approx.\",\n",
        "     \"This government is not doing work to control the traffic in better manner.\", \"A nuclear of atom contains proton and neutrons.\", \"India got freedom in 15th August 1947 and then nehru was the first prime minister of India.\",\n",
        "       \"The energy output of the sun is not constant\", \"Increase of population must be stoped as it is harmfull for various of things.\",\"Delhi is the capital of India\",\n",
        "       \"Sun rises in the east ans sets in the west.\", \"Ohh, How hot this summer is going on\", \"It looks ligh i will be late in reaching delhi. \",\n",
        "       \"Gandhi Jayanti is celebrated on 2nd October.\", \"Gandhi ji was born on 2nd october, 1869.\", \"Gandhi Ji did not do anything for the development of India.\",\n",
        "       \"Water flows from high level to low level.\", \"India might be able to improve its GDP if it invests substantially in major urban infrastructure.\",\n",
        "        \"you should get up early in th morning\", 'India having 3000 kilometer square area.']"
      ],
      "execution_count": 0,
      "outputs": []
    },
    {
      "cell_type": "code",
      "metadata": {
        "id": "7Ouod3JM59YJ",
        "colab_type": "code",
        "colab": {}
      },
      "source": [
        "text = ['''Traditional policies offer a wide range of covers within a single product, whereas sachet policies are designed to address specific risks. “Traditional policies are multi-purpose and broader in scope. Sachet policies have targeted coverage duration, and specific sum assured. This makes the underwriting process simpler and the premiums more affordable. Traditional policies generally provide annual, round-the-clock cover with relatively higher sum assured and, therefore, require a more comprehensive underwriting,\" said Abhishek Bondia, principal officer and managing director, SecureNow.in.\n",
        "\n",
        "The selling point of sachet policies is the low premium. Toffee Insurance, a digital insurtech startup, offers various bite-sized policies such as fitness insurance, which covers accidental injuries related to a fitness activity or sport, cyclist insurance which covers cycle theft and damage as well as accident-related death or disability, and backpack insurance which covers theft of your backpack or laptop bag. The premiums of these policies range between ₹25 and ₹449 for a time period of 180 days to a year.''']"
      ],
      "execution_count": 0,
      "outputs": []
    },
    {
      "cell_type": "code",
      "metadata": {
        "id": "lRHH8h0i9niq",
        "colab_type": "code",
        "colab": {}
      },
      "source": [
        "text = sent_tokenize(text[0])"
      ],
      "execution_count": 0,
      "outputs": []
    },
    {
      "cell_type": "code",
      "metadata": {
        "id": "maNNx66E4knx",
        "colab_type": "code",
        "colab": {}
      },
      "source": [
        "c = [clean(i, 1) for i in text]"
      ],
      "execution_count": 0,
      "outputs": []
    },
    {
      "cell_type": "code",
      "metadata": {
        "id": "G84KPpDA4tfk",
        "colab_type": "code",
        "outputId": "76f822ff-db38-47e5-ca30-0a666aa9b2c4",
        "colab": {
          "base_uri": "https://localhost:8080/",
          "height": 490
        }
      },
      "source": [
        "c"
      ],
      "execution_count": 0,
      "outputs": [
        {
          "output_type": "execute_result",
          "data": {
            "text/plain": [
              "['we should get up early in the morning ',\n",
              " 'according to rahul gandhi narendra modi is not a good person ',\n",
              " 'taj mahal is situated in agra ',\n",
              " 'i was born on th july  num in kanpur',\n",
              " 'ganga is the longest river in india ',\n",
              " 'india won the cricket world cup in num ',\n",
              " 'rahul gandhi said modi is a good prime minister ',\n",
              " 'himalyan is situated in the north of india ',\n",
              " 'goa is a good place to be visted  it has so many beautifull beaches ',\n",
              " 'she said that this project will be completed in  years approx ',\n",
              " 'this government is not doing work to control the traffic in better manner ',\n",
              " 'a nuclear of atom contains proton and neutrons ',\n",
              " 'india got freedom in numth august num and then nehru was the first prime minister of india ',\n",
              " 'the energy output of the sun is not constant',\n",
              " 'increase of population must be stoped as it is harmfull for various of things ',\n",
              " 'delhi is the capital of india',\n",
              " 'sun rises in the east ans sets in the west ',\n",
              " 'ohh  how hot this summer is going on',\n",
              " 'it looks ligh i will be late in reaching delhi ',\n",
              " 'gandhi jayanti is celebrated on nd october ',\n",
              " 'gandhi ji was born on nd october  num ',\n",
              " 'gandhi ji did not do anything for the development of india ',\n",
              " 'water flows from high level to low level ',\n",
              " 'india might be able to improve its gdp if it invests substantially in major urban infrastructure ',\n",
              " 'you should get up early in th morning',\n",
              " 'india having num kilometer square area ']"
            ]
          },
          "metadata": {
            "tags": []
          },
          "execution_count": 276
        }
      ]
    },
    {
      "cell_type": "code",
      "metadata": {
        "id": "_IWsvhz04ymw",
        "colab_type": "code",
        "colab": {}
      },
      "source": [
        "X_tokenized= tk.texts_to_sequences(pd.Series(c).fillna('UNK'))\n",
        "X = pad_sequences(X_tokenized, maxlen = 25, padding = 'post', truncating= 'post')"
      ],
      "execution_count": 0,
      "outputs": []
    },
    {
      "cell_type": "code",
      "metadata": {
        "id": "GrIbextb46c3",
        "colab_type": "code",
        "outputId": "b5c067b3-f5f2-4ee7-cd4a-855bdc9337dc",
        "colab": {
          "base_uri": "https://localhost:8080/",
          "height": 74
        }
      },
      "source": [
        "x = [embedding_matrix[[i]] for i in X]"
      ],
      "execution_count": 0,
      "outputs": [
        {
          "output_type": "stream",
          "text": [
            "/usr/local/lib/python3.6/dist-packages/ipykernel_launcher.py:1: FutureWarning: Using a non-tuple sequence for multidimensional indexing is deprecated; use `arr[tuple(seq)]` instead of `arr[seq]`. In the future this will be interpreted as an array index, `arr[np.array(seq)]`, which will result either in an error or a different result.\n",
            "  \"\"\"Entry point for launching an IPython kernel.\n"
          ],
          "name": "stderr"
        }
      ]
    },
    {
      "cell_type": "code",
      "metadata": {
        "id": "z3Mssj_45fY1",
        "colab_type": "code",
        "colab": {}
      },
      "source": [
        "x = np.array(x)"
      ],
      "execution_count": 0,
      "outputs": []
    },
    {
      "cell_type": "code",
      "metadata": {
        "id": "nGYRO98a5ipG",
        "colab_type": "code",
        "colab": {}
      },
      "source": [
        "text"
      ],
      "execution_count": 0,
      "outputs": []
    },
    {
      "cell_type": "code",
      "metadata": {
        "id": "emfaJkFt5GPO",
        "colab_type": "code",
        "outputId": "8a70b968-f612-4d12-b0b9-84b57fcbbe4c",
        "colab": {
          "base_uri": "https://localhost:8080/",
          "height": 854
        }
      },
      "source": [
        "y_pred = model.predict(x)\n",
        "v = [(i, j) for i, j in zip(text, y_pred)]\n",
        "v"
      ],
      "execution_count": 0,
      "outputs": [
        {
          "output_type": "execute_result",
          "data": {
            "text/plain": [
              "[('We should get up early in the morning.', array([0.4246287], dtype=float32)),\n",
              " ('According to Rahul Gandhi narendra modi is not a good person.',\n",
              "  array([0.175217], dtype=float32)),\n",
              " ('Taj Mahal is situated in Agra.', array([0.63421607], dtype=float32)),\n",
              " ('I was born on 9th july, 1998 in Kanpur',\n",
              "  array([0.87088215], dtype=float32)),\n",
              " ('Ganga is the longest river in india.', array([0.55003923], dtype=float32)),\n",
              " ('India won the cricket world cup in 2011.',\n",
              "  array([0.8101121], dtype=float32)),\n",
              " ('Rahul Gandhi said Modi is a good prime minister.',\n",
              "  array([0.42209828], dtype=float32)),\n",
              " ('himalyan is situated in the north of india.',\n",
              "  array([0.8190203], dtype=float32)),\n",
              " ('Goa is a good place to be visted. It has so many beautifull beaches.',\n",
              "  array([0.10035551], dtype=float32)),\n",
              " ('She said that This project will be completed in 5 years approx.',\n",
              "  array([0.94266653], dtype=float32)),\n",
              " ('This government is not doing work to control the traffic in better manner.',\n",
              "  array([0.65900016], dtype=float32)),\n",
              " ('A nuclear of atom contains proton and neutrons.',\n",
              "  array([0.6804305], dtype=float32)),\n",
              " ('India got freedom in 15th August 1947 and then nehru was the first prime minister of India.',\n",
              "  array([0.35427842], dtype=float32)),\n",
              " ('The energy output of the sun is not constant',\n",
              "  array([0.58524585], dtype=float32)),\n",
              " ('Increase of population must be stoped as it is harmfull for various of things.',\n",
              "  array([0.1402502], dtype=float32)),\n",
              " ('Delhi is the capital of India', array([0.41134733], dtype=float32)),\n",
              " ('Sun rises in the east ans sets in the west.',\n",
              "  array([0.88978875], dtype=float32)),\n",
              " ('Ohh, How hot this summer is going on', array([0.15448526], dtype=float32)),\n",
              " ('It looks ligh i will be late in reaching delhi. ',\n",
              "  array([0.20431319], dtype=float32)),\n",
              " ('Gandhi Jayanti is celebrated on 2nd October.',\n",
              "  array([0.52423114], dtype=float32)),\n",
              " ('Gandhi ji was born on 2nd october, 1869.',\n",
              "  array([0.5006803], dtype=float32)),\n",
              " ('Gandhi Ji did not do anything for the development of India.',\n",
              "  array([0.43850076], dtype=float32)),\n",
              " ('Water flows from high level to low level.',\n",
              "  array([0.15507117], dtype=float32)),\n",
              " ('India might be able to improve its GDP if it invests substantially in major urban infrastructure.',\n",
              "  array([0.10003874], dtype=float32)),\n",
              " ('you should get up early in th morning', array([0.17576006], dtype=float32)),\n",
              " ('India having 3000 kilometer square area.',\n",
              "  array([0.593374], dtype=float32))]"
            ]
          },
          "metadata": {
            "tags": []
          },
          "execution_count": 281
        }
      ]
    },
    {
      "cell_type": "code",
      "metadata": {
        "id": "CRrYodr25Vlw",
        "colab_type": "code",
        "colab": {}
      },
      "source": [
        ""
      ],
      "execution_count": 0,
      "outputs": []
    }
  ]
}